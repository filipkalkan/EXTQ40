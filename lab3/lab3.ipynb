{
 "cells": [
  {
   "cell_type": "markdown",
   "metadata": {},
   "source": [
    "<h1 style=\"font-size:40px;\"><center>Exercise III:<br> Convolutional and Recurrent Neural Networks\n",
    "</center></h1>"
   ]
  },
  {
   "cell_type": "markdown",
   "metadata": {},
   "source": [
    "## Short summary\n",
    "In this exercise you will: \n",
    "\n",
    "* Train CNNs for a binary classification problem\n",
    "* Visualize how CNN interprets the data\n",
    "* Train a CNNs for two 3-class classification problem\n",
    "* Train RNN on a time series prediction problem\n",
    "* Visualize how RNN hidden node activities\n",
    "* Sample from a RNN character model\n",
    "\n",
    "In this lab we will look at network architectures that are designed to handle specific kinds of data. Convolutional Neural Networks for image processing and Recurrent Neural Networks for time series processing\n",
    "\n",
    "**Deadline for submitting the report: January 3, 13:00 (2022)**\n",
    "\n",
    "## The data\n",
    "Digits \"5\" and \"6\" from the MNIST database used for a binary classification problem.\n",
    "\n",
    "A dataset consisting of circles, rectangles or triangles, that can be read using the *loadImagesCRT* function.\n",
    "\n",
    "A dataset consisting of three different types of rectangles, squares, \"horizontal\" rectangles and \"vertical\" rectangles. This data can be read using the *loadImagesR3* function.\n",
    "\n",
    "A dataset consisting of pairs of times series. The input time series is a train of rectangle pulses, and the output is triangles, i.e. an up-ramp followed by a down-ramp. For more details see the cell *Ex4-1*. The task is to train a recurrent network that predicts the triangle time series from the pulse time series.\n",
    "\n",
    "The last exercise is using the Tensorflow source code (C++) represented as a long sequence of characters. See that cell for more details.\n",
    "\n",
    "## The exercises\n",
    "As for the previous lab all exercises are found below.\n",
    "\n",
    "## The different 'Cells'\n",
    "This notebook contains several cells with python code, together with the markdown cells (like this one) with only text. Each of the cells with python code has a \"header\" markdown cell with information about the code. The table below provides a short overview of the code cells. \n",
    "\n",
    "| #  |  CellName | CellType | Comment |\n",
    "| :--- | :-------- | :-------- | :------- |\n",
    "| 1 | Init | Needed | Sets up the environment|\n",
    "| 2 | Data | Needed | Loading images for the CNN exercise |\n",
    "| 3 | PlotImg | Information  | View some of the images |\n",
    "| 4 | Stats | Needed | Compute classification results |\n",
    "| 5 | Visualization | Needed | Visualize layers of a CNN |\n",
    "| 6 | Ex1 | Exercise | For question 1-2 |\n",
    "| 7 | Ex2 | Exercise | For question 3 |\n",
    "| 8 | Ex3 | Exercise | For question 4-5 |\n",
    "| 9 | Ex4-1 | Exercise | For question 6-9 |\n",
    "| 10 | Ex4-2 | Exercise | For question 6-9 |\n",
    "| 11 | Ex4-3 | Exercise | For question 6-9 |\n",
    "| 12 | Ex5-1 | Exercise | For question 10-11 |\n",
    "| 13 | Ex5-2 | Exercise | For question 10-11 |\n",
    "\n",
    "\n",
    "In order for you to start with the exercise you need to run all cells with the CellType \"Needed\". The very first time you start with this exercise we suggest that you enter each of the needed cells, read the cell instruction and run the cell. It is important that you do this in the correct order, starting from the top and work you way down the cells. Later when you have started to work with the notebook it may be easier to use the command \"Run All\" found in the \"Cell\" dropdown menu.\n",
    "\n",
    "## Writing the report\n",
    "First the report should be written within this notebook. We have prepared the last cell in this notebook for you where you should write the report. The report should contain 4 parts:\n",
    "\n",
    "* Name:\n",
    "* Introduction: A **few** sentences where you give a small introduction of what you have done in the lab.\n",
    "* Answers to questions: For each of the questions provide an answer. It can be short answers or a longer ones depending on the nature of the questions, but try to be effective in your writing.\n",
    "* Conclusion: Summarize your findings in a few sentences.\n",
    "\n",
    "It is important that you write the report in this last cell and **not** after each question! \n",
    "\n",
    "## Last but not least\n",
    "Have fun again!\n",
    "\n",
    "\n"
   ]
  },
  {
   "cell_type": "markdown",
   "metadata": {},
   "source": [
    "### CellName: Init (#1)\n",
    "### CellType: Needed\n",
    "### Cell instruction: Initializing the libraries\n",
    "In the cell below, we import all the libraries that are needed for this exercises. \n",
    "\n",
    "Run the cell by entering into the cell and press \"CTRL Enter\".\n"
   ]
  },
  {
   "cell_type": "code",
   "execution_count": 1,
   "metadata": {},
   "outputs": [],
   "source": [
    "import numpy as np\n",
    "import tensorflow as tf\n",
    "import time\n",
    "\n",
    "from tensorflow import keras\n",
    "from tensorflow.keras.models import Model, Sequential\n",
    "from tensorflow.keras.layers import Dense, Dropout, Flatten, Input, Activation\n",
    "from tensorflow.keras.layers import Conv2D, MaxPooling2D\n",
    "from tensorflow.keras.layers import TimeDistributed\n",
    "from tensorflow.keras.layers import Lambda, concatenate\n",
    "from tensorflow.keras.layers import LSTM, GRU, SimpleRNN, RNN\n",
    "\n",
    "from tensorflow.keras.optimizers import SGD, Adam, RMSprop, Nadam\n",
    "from tensorflow.keras import backend as K\n",
    "\n",
    "from sklearn.metrics import *\n",
    "\n",
    "import matplotlib\n",
    "import matplotlib.pyplot as plt"
   ]
  },
  {
   "cell_type": "markdown",
   "metadata": {},
   "source": [
    "### CellName: Data (#2)\n",
    "### CellType: Needed\n",
    "### Cell instruction: Function for getting images for the CNN exercises\n",
    "\n",
    "This cell defines the functions that obtain the images needed for the CNN exercise. Note! Later when you actually call these function, if it can't find the files, make sure the \"crt-trn/\" and \"crt-tst/\" folders are available in the same directory as this notebook file.\n",
    "\n",
    "Run the cell by entering into the cell and press \"CTRL Enter\"."
   ]
  },
  {
   "cell_type": "code",
   "execution_count": 2,
   "metadata": {},
   "outputs": [],
   "source": [
    "def load_pics(folder,N):\n",
    "    import imageio\n",
    "    imgs = []\n",
    "    for i in range(N):\n",
    "        img = imageio.imread(folder+\"img_{:05}.png\".format(i+1))\n",
    "        ch = img[:,:,0]\n",
    "        imgs.append(ch)\n",
    "    return np.array(imgs)\n",
    "\n",
    "def load_labels(fn):\n",
    "    return np.loadtxt(fn, usecols=(0,1,2))\n",
    "\n",
    "def loadImagesCRT():\n",
    "    base = \"./\"\n",
    "    trainpic = load_pics(base + \"crt-trn/\", 500)\n",
    "    valpic = load_pics(base + \"crt-val/\", 1000)\n",
    "    ntrain, width, height = trainpic.shape\n",
    "\n",
    "    xtrain = (trainpic/np.float32(255)).reshape(500, width, height, 1)\n",
    "    xval = (valpic/np.float32(255)).reshape(1000, width, height, 1)\n",
    "\n",
    "    ytrain = load_labels(base+\"crt-trn_trg.csv\")\n",
    "    #ytrain = ytrain[:N]\n",
    "    yval = load_labels(base+\"crt-val_trg.csv\")\n",
    "    \n",
    "    return xtrain, ytrain, xval, yval, width, height\n",
    "\n",
    "def loadImagesR3():\n",
    "    base = \"./\"\n",
    "    trainpic = load_pics(base + \"r3-trn/\", 500)\n",
    "    valpic = load_pics(base + \"r3-val/\", 1000)\n",
    "    ntrain, width, height = trainpic.shape\n",
    "\n",
    "    xtrain = (trainpic/np.float32(255)).reshape(500, width, height, 1)\n",
    "    xval = (valpic/np.float32(255)).reshape(1000, width, height, 1)\n",
    "\n",
    "    ytrain = load_labels(base+\"r3-trn_trg.csv\")\n",
    "    #ytrain = ytrain[:500]\n",
    "    yval = load_labels(base+\"r3-val_trg.csv\")\n",
    "\n",
    "    return xtrain, ytrain, xval, yval, width, height\n",
    "\n",
    "\n",
    "def loadMNIST56():\n",
    "    xtrain, ytrain, xval, yval = np.load(\"mnist56.npy\", allow_pickle=True)\n",
    "    width, height = xtrain.shape[1:3]\n",
    "    return xtrain, ytrain, xval, yval, width, height\n"
   ]
  },
  {
   "cell_type": "markdown",
   "metadata": {},
   "source": [
    "### CellName: PlotImg (#3)\n",
    "### CellType: Information\n",
    "### Cell instruction: Show some of the images\n",
    "\n",
    "Here we look at the first ten pictures in the training set, and their respective targets. You can select the dataset to look at by uncomment the correct line.\n",
    "\n",
    "Run the cell by entering into the cell and press \"CTRL Enter\"."
   ]
  },
  {
   "cell_type": "code",
   "execution_count": 5,
   "metadata": {},
   "outputs": [
    {
     "data": {
      "image/png": "[encoded data removed]",
      "text/plain": [
       "<Figure size 1080x720 with 1 Axes>"
      ]
     },
     "metadata": {
      "needs_background": "light"
     },
     "output_type": "display_data"
    },
    {
     "name": "stdout",
     "output_type": "stream",
     "text": [
      "Targets:\n",
      "[[0. 0. 1.]\n",
      " [0. 1. 0.]\n",
      " [0. 1. 0.]\n",
      " [1. 0. 0.]\n",
      " [1. 0. 0.]\n",
      " [1. 0. 0.]\n",
      " [1. 0. 0.]\n",
      " [1. 0. 0.]\n",
      " [0. 1. 0.]\n",
      " [0. 1. 0.]]\n"
     ]
    }
   ],
   "source": [
    "# xTrn, dTrn, xVal, dVal, width, height = loadMNIST56()\n",
    "# xTrn, dTrn, xVal, dVal, width, height = loadImagesCRT()\n",
    "xTrn, dTrn, xVal, dVal, width, height = loadImagesR3()\n",
    "\n",
    "rndSel = np.random.randint(500, size=10)\n",
    "plt.figure(1, figsize=(15,10))\n",
    "plt.imshow(xTrn[rndSel,:,:].swapaxes(0,1).reshape(width,10*height),cmap=\"gray\")\n",
    "plt.axis(\"off\")\n",
    "plt.show()\n",
    "\n",
    "print(\"Targets:\")\n",
    "print(dTrn[rndSel])\n"
   ]
  },
  {
   "cell_type": "markdown",
   "metadata": {},
   "source": [
    "### CellName: Stats (#4)\n",
    "### CellType: Needed\n",
    "### Cell instruction: Get binary and 3-class classification results\n",
    "\n",
    "This cell just defines functions that we can call to compute som performance measures for binary and 3-class classification problems.\n",
    "\n",
    "Run the cell by entering into the cell and press \"CTRL Enter\"."
   ]
  },
  {
   "cell_type": "code",
   "execution_count": 6,
   "metadata": {},
   "outputs": [],
   "source": [
    "def binary_pred_stats(ytrue, ypred, threshold=0.5):\n",
    "    one_correct = np.sum((ytrue==1)*(ypred > threshold))\n",
    "    zero_correct = np.sum((ytrue==0)*(ypred <= threshold))\n",
    "    sensitivity = one_correct / np.sum(ytrue==1)\n",
    "    specificity = zero_correct / np.sum(ytrue==0)\n",
    "    accuracy = (one_correct + zero_correct) / len(ytrue)\n",
    "    return sensitivity, specificity, accuracy\n",
    "\n",
    "def plot_confusion_matrix(cm,\n",
    "                          target_names,\n",
    "                          title='Confusion matrix',\n",
    "                          cmap=None,\n",
    "                          normalize=True):\n",
    "\n",
    "    import itertools\n",
    "\n",
    "    accuracy = np.trace(cm) / float(np.sum(cm))\n",
    "    misclass = 1 - accuracy\n",
    "\n",
    "    if cmap is None:\n",
    "        cmap = plt.get_cmap('Blues')\n",
    "\n",
    "    plt.figure(figsize=(8, 6))\n",
    "    plt.imshow(cm, interpolation='nearest', cmap=cmap)\n",
    "    plt.title(title)\n",
    "    plt.colorbar()\n",
    "    #plt.ylim([-0.5, cm.shape[0]-0.5])\n",
    "\n",
    "    if target_names is not None:\n",
    "        tick_marks = np.arange(len(target_names))\n",
    "        plt.xticks(tick_marks, target_names, rotation=45)\n",
    "        plt.yticks(tick_marks, target_names)\n",
    "\n",
    "    if normalize:\n",
    "        cm = cm.astype('float') / cm.sum(axis=1)[:, np.newaxis]\n",
    "\n",
    "\n",
    "    thresh = cm.max() / 1.5 if normalize else cm.max() / 2\n",
    "    for i, j in itertools.product(range(cm.shape[0]), range(cm.shape[1])):\n",
    "        if normalize:\n",
    "            plt.text(j, i, \"{:0.4f}\".format(cm[i, j]),\n",
    "                     horizontalalignment=\"center\",\n",
    "                     color=\"white\" if cm[i, j] > thresh else \"black\")\n",
    "        else:\n",
    "            plt.text(j, i, \"{:,}\".format(cm[i, j]),\n",
    "                     horizontalalignment=\"center\",\n",
    "                     color=\"white\" if cm[i, j] > thresh else \"black\")\n",
    "\n",
    "\n",
    "    plt.tight_layout()\n",
    "    plt.ylabel('True label')\n",
    "    plt.xlabel('Predicted label\\naccuracy={:0.4f}; misclass={:0.4f}'.format(accuracy, misclass))\n",
    "    plt.show()\n",
    "    \n",
    "def multi_stat_3(model = None, x_test = None, y_test = None, lbl = None):\n",
    "    y_pred = model.predict(x_test, verbose=0 )\n",
    "    print(lbl,' log_loss:  ', log_loss(y_test, y_pred, eps=1e-15))\n",
    "\n",
    "    y_true = y_test.argmax(axis=1)\n",
    "    y_pred = y_pred.argmax(axis=1)\n",
    "    print(lbl, ' accuracy:  ',(y_pred==y_true).mean(), '\\n')\n",
    "\n",
    "    target_names = ['class {}'.format(i+1) for i in range(3)]\n",
    "\n",
    "    confuTst = confusion_matrix(y_true, y_pred)\n",
    "    plot_confusion_matrix(cm           = confuTst, \n",
    "                          normalize    = False,\n",
    "                          target_names = target_names,\n",
    "                          title        = \"Confusion Matrix: \" + lbl)\n"
   ]
  },
  {
   "cell_type": "markdown",
   "metadata": {},
   "source": [
    "### CellName: Visualization (#5)\n",
    "### CellType: Needed\n",
    "### Cell instruction: Function that can visualize the different layers of a CNN\n",
    "\n",
    "This cell is feeding an image through a CNN and stores the intemediate values. It plots the different layers (filtered images) either before or after maxpooling.\n",
    "\n",
    "Run the cell by entering into the cell and press \"CTRL Enter\"."
   ]
  },
  {
   "cell_type": "code",
   "execution_count": 7,
   "metadata": {},
   "outputs": [],
   "source": [
    "def layerVisaliztion(model,\n",
    "                     indata,\n",
    "                     target,\n",
    "                     idx=10,\n",
    "                     post_pool = False):\n",
    "\n",
    "    # The prediction for the test case\n",
    "    #idx_pred = model.predict(indata)[idx,0]\n",
    "    #print('True label: = {:0.1f}, Prediction = {:0.8f}'.format(idx_pred, target[idx]))\n",
    "    \n",
    "    print('Prediction: ', model.predict(indata)[idx])\n",
    "    print('Target    : ', target[idx])\n",
    "    \n",
    "    kind = MaxPooling2D if post_pool else Conv2D\n",
    "    outs = [l.output for l in model.layers if isinstance(l, kind)]\n",
    "    intermediate = K.function([model.layers[0].input], outs)\n",
    "    \n",
    "    states = [indata[idx:idx+1]] + intermediate([indata[idx:idx+1]])\n",
    "    plt.figure(figsize=(18,12))                    \n",
    "    for k,s in enumerate(states):\n",
    "        plt.figure(figsize=(18,12))\n",
    "        plt.subplot(len(outs)+1,1,k+1)\n",
    "        pics = s[0]\n",
    "        pics = np.rollaxis(pics,2,0)\n",
    "        rows = 2 if pics.shape[0] > 8 else 1\n",
    "        cols = pics.shape[0]//rows\n",
    "        pad = pics.shape[0]-rows*cols\n",
    "        if pad > 0:\n",
    "            padding = np.zeros_like(pics, shape=(rows-pad,)+pics.shape[1:])\n",
    "            pics = np.concatenate([pics, padding])\n",
    "            cols = cols + 1            \n",
    "        imgshape = pics.shape[1:]\n",
    "        pics = pics.reshape((rows,cols)+imgshape)\n",
    "        pics = pics.swapaxes(1,2)\n",
    "        pics = pics.reshape((pics.shape[0]*pics.shape[1], pics.shape[2]*pics.shape[3]))\n",
    "        extent = (0,cols*imgshape[0], 0,rows*imgshape[1])\n",
    "        plt.imshow(pics,cmap='gray',extent=extent)\n",
    "        for r in range(1,rows):\n",
    "            plt.plot([0,cols*imgshape[0]], [r*imgshape[1], r*imgshape[1]], color='r', linestyle='-', linewidth=1)\n",
    "        for c in range(1,cols):\n",
    "            plt.plot([c*imgshape[0], c*imgshape[0]], [0,rows*imgshape[1]], color='r', linestyle='-', linewidth=1)\n"
   ]
  },
  {
   "cell_type": "markdown",
   "metadata": {},
   "source": [
    "### CellName: Ex1 (#6)\n",
    "### CellType: Exercise\n",
    "### Cell instruction: Instructions for question 1-2\n",
    "\n",
    "## CNN for image classification\n",
    "\n",
    "In this first exercise you are going to train a CNN that can separate between numbers \"5\" and \"6\" from the mnist dataset (mnist56 dataset). We are going to use 2000 training images and 1850 validation images. To start with we have a proposed CNN that can solve this problem. It consists of the following:\n",
    "* First convolutional layer consisting of 4 kernels of size 3x3, with ReLU activation\n",
    "* Maxpooling of size 2x2\n",
    "* Second convolutional layer of 4 kernels of size 3x3, with ReLU activation\n",
    "* Maxpooling of size 2x2\n",
    "* Special layer *Flatten()*, just transforms the all of the max pooled filter outputs to a linear vector of outputs\n",
    "* *Dense* layer, meaning a fully connected MLP like layer with 10 nodes, again ReLU activation\n",
    "* Final output layer consisting of one single output node with sigmoid activation function because we have a binary classification problem.\n",
    "\n",
    "The default is to use *stride* = 1 and no *padding*. \n",
    "\n",
    "#### Question 1\n",
    "Make sure you understand the definition of the CNN model in the cell below and train it. **What is your validation set performance in terms of the accuracy?**\n",
    "\n",
    "0.9914\n",
    "\n",
    "#### Question 2\n",
    "This image classification problem should be relatively easy since a \"5\" has some distinct differences from a \"6\". Experiment with the architecture of the CNN model and try to make it smaller (in terms of the number of trainable parameters), but with the same almost perfect validation accuracy (>98%). **How many parameters do you have in your trimmed model and state your architecture?**\n",
    "\n",
    "**Hint:** There is of course very many ways you can make a smaller architecture. You do not need to test all of them!\n",
    "\n",
    "Was still able to get 98% with layers [4,2,2,1]\n"
   ]
  },
  {
   "cell_type": "code",
   "execution_count": 10,
   "metadata": {},
   "outputs": [
    {
     "name": "stdout",
     "output_type": "stream",
     "text": [
      "Model: \"sequential_2\"\n",
      "_________________________________________________________________\n",
      "Layer (type)                 Output Shape              Param #   \n",
      "=================================================================\n",
      "conv2d_4 (Conv2D)            (None, 26, 26, 4)         40        \n",
      "_________________________________________________________________\n",
      "max_pooling2d_4 (MaxPooling2 (None, 13, 13, 4)         0         \n",
      "_________________________________________________________________\n",
      "conv2d_5 (Conv2D)            (None, 11, 11, 2)         74        \n",
      "_________________________________________________________________\n",
      "max_pooling2d_5 (MaxPooling2 (None, 5, 5, 2)           0         \n",
      "_________________________________________________________________\n",
      "flatten_2 (Flatten)          (None, 50)                0         \n",
      "_________________________________________________________________\n",
      "dense_4 (Dense)              (None, 2)                 102       \n",
      "_________________________________________________________________\n",
      "dense_5 (Dense)              (None, 1)                 3         \n",
      "=================================================================\n",
      "Total params: 219\n",
      "Trainable params: 219\n",
      "Non-trainable params: 0\n",
      "_________________________________________________________________\n"
     ]
    },
    {
     "name": "stderr",
     "output_type": "stream",
     "text": [
      "2021-12-28 18:39:39.342361: I tensorflow/core/grappler/optimizers/custom_graph_optimizer_registry.cc:112] Plugin optimizer for device_type GPU is enabled.\n",
      "2021-12-28 18:39:39.837526: I tensorflow/core/grappler/optimizers/custom_graph_optimizer_registry.cc:112] Plugin optimizer for device_type GPU is enabled.\n"
     ]
    },
    {
     "data": {
      "image/png": "[encoded data removed]",
      "text/plain": [
       "<Figure size 432x288 with 1 Axes>"
      ]
     },
     "metadata": {
      "needs_background": "light"
     },
     "output_type": "display_data"
    },
    {
     "name": "stderr",
     "output_type": "stream",
     "text": [
      "2021-12-28 18:39:48.027737: I tensorflow/core/grappler/optimizers/custom_graph_optimizer_registry.cc:112] Plugin optimizer for device_type GPU is enabled.\n"
     ]
    },
    {
     "name": "stdout",
     "output_type": "stream",
     "text": [
      "training: Accuracy = 0.9995, Sensitivity = 1.0000, Specificity = 0.9990 \n",
      "\n",
      "validation: Accuracy = 0.9897, Sensitivity = 0.9843, Specificity = 0.9955 \n",
      "\n"
     ]
    }
   ],
   "source": [
    "# Load the dataset, MNIST-56\n",
    "x_trn, d_trn, x_val, d_val, width, height = loadMNIST56()\n",
    "\n",
    "# The size of the images\n",
    "input_shape = (width, height, 1)\n",
    "\n",
    "# Define the CNN ex1\n",
    "ex1 = Sequential()\n",
    "\n",
    "# First conv layer\n",
    "ex1.add(Conv2D(4, kernel_size=(3, 3), activation='relu', input_shape=input_shape))\n",
    "ex1.add(MaxPooling2D(pool_size=(2, 2)))\n",
    "\n",
    "# Second conv layer\n",
    "ex1.add(Conv2D(2, kernel_size=(3, 3), activation='relu'))\n",
    "ex1.add(MaxPooling2D(pool_size=(2, 2)))\n",
    "\n",
    "# Fully connected MLP layers\n",
    "ex1.add(Flatten())\n",
    "ex1.add(Dense(2, activation='relu'))\n",
    "\n",
    "# Output layer\n",
    "ex1.add(Dense(1, activation='sigmoid'))\n",
    "\n",
    "# We use cross entropy error and the adam optimizer\n",
    "adam = Adam(lr=0.005)\n",
    "ex1.compile(loss='binary_crossentropy', optimizer=adam, metrics=['accuracy'])\n",
    "ex1.summary()\n",
    "\n",
    "# Now train the ex1\n",
    "estimator_ex1 = ex1.fit(x_trn, d_trn, \n",
    "                        validation_data=(x_val, d_val),\n",
    "                        epochs=30, \n",
    "                        batch_size=64,\n",
    "                        verbose=0)\n",
    "\n",
    "\n",
    "# Training history\n",
    "plt.figure()\n",
    "plt.ylabel('Loss / Accuracy')\n",
    "plt.xlabel('Epoch')\n",
    "for k in estimator_ex1.history.keys():\n",
    "    plt.plot(estimator_ex1.history[k], label = k) \n",
    "plt.legend(loc='best')\n",
    "plt.show()\n",
    "\n",
    "# Get the training predictions and results for those\n",
    "d_trn_pred = ex1.predict(x_trn)[:,0]\n",
    "sens, spec, acc = binary_pred_stats(d_trn, d_trn_pred)\n",
    "print('training: Accuracy = {:.4f}, Sensitivity = {:.4f}, Specificity = {:.4f}'.format(acc, sens, spec), '\\n')\n",
    "\n",
    "# Get the validation predictions and the results for those\n",
    "d_val_pred = ex1.predict(x_val)[:,0]\n",
    "sens, spec, acc = binary_pred_stats(d_val, d_val_pred)\n",
    "print('validation: Accuracy = {:.4f}, Sensitivity = {:.4f}, Specificity = {:.4f}'.format(acc, sens, spec), '\\n')\n"
   ]
  },
  {
   "cell_type": "markdown",
   "metadata": {},
   "source": [
    "### CellName: Ex2 (#7)\n",
    "### CellType: Exercise\n",
    "### Cell instruction: Instructions for question 3\n",
    "\n",
    "You are now going to take a look into the CNN model. There are many attempts to visualize how the CNN model is making classifications. We will here just look at the different layer outputs given an input image. The function 'layerVisualization', found in cell #5 does the following:\n",
    "* Use one selected image from the supplied dataset.\n",
    "* Make a forward pass through the CNN remembering all intermediate values.\n",
    "* Plot all of the \"filters\" for each of the layers.\n",
    "* One can select to plot before or after the MaxPooling.\n",
    "\n",
    "You pass the model that you want to visualize to the 'layerVisualization' function. If you do not change the names in cell (Ex1) it will be 'ex1'.\n",
    "\n",
    "#### Question 3\n",
    "Train a CNN for the \"5\" vs \"6\" problem! As a suggestion use the following CNN\n",
    "\n",
    "*3x(3x3 kernel)-maxpool-3x(3x3 kernel)-maxpool-(Flatten)-Dense(5)-Dense(1)*\n",
    "\n",
    "Make sure that your trained model gives good validation results (i.e. > 95% accuracy). Having such a model, you can run the cell below. There are two parameters you need to specify, *idx* and *post_pool*. The *post_pool* variable can be set to *True* meaning that filters will be shown after MaxPooling. The image to show is selected by the *idx* variable. As an example, the following values represent,\n",
    "* idx=1 number \"6\"\n",
    "* idx=2 numner \"5\"\n",
    "* idx=3 another number \"6\"\n",
    "* idx=5 antoher number \"5\"\n",
    "\n",
    "**Can you find some property in the filters that makes sense when it comes to separating \"5\" from \"6\"?**\n",
    "\n",
    "Hint! If you repeat the training you most likely get a new network and other filters!\n",
    "\n",
    "It focuses on the top ring + left line of sizes, and the top line of fives."
   ]
  },
  {
   "cell_type": "code",
   "execution_count": 21,
   "metadata": {},
   "outputs": [
    {
     "name": "stdout",
     "output_type": "stream",
     "text": [
      "Prediction:  [0.946841]\n",
      "Target    :  1.0\n"
     ]
    },
    {
     "data": {
      "text/plain": [
       "<Figure size 1296x864 with 0 Axes>"
      ]
     },
     "metadata": {},
     "output_type": "display_data"
    },
    {
     "data": {
      "image/png": "[encoded data removed]",
      "text/plain": [
       "<Figure size 1296x864 with 1 Axes>"
      ]
     },
     "metadata": {
      "needs_background": "light"
     },
     "output_type": "display_data"
    },
    {
     "data": {
      "image/png": "[encoded data removed]",
      "text/plain": [
       "<Figure size 1296x864 with 1 Axes>"
      ]
     },
     "metadata": {
      "needs_background": "light"
     },
     "output_type": "display_data"
    },
    {
     "data": {
      "image/png": "[encoded data removed]",
      "text/plain": [
       "<Figure size 1296x864 with 1 Axes>"
      ]
     },
     "metadata": {
      "needs_background": "light"
     },
     "output_type": "display_data"
    }
   ],
   "source": [
    "# Show before or after MaxPooling\n",
    "post_pool = False\n",
    "\n",
    "# The test image to look at\n",
    "idx = 3\n",
    "\n",
    "# Call the visualization method, giving the model and the validation data to select the case from\n",
    "layerVisaliztion(ex1, x_val, d_val, idx, post_pool)"
   ]
  },
  {
   "cell_type": "markdown",
   "metadata": {},
   "source": [
    "### CellName: Ex3 (#8)\n",
    "### CellType: Exercise\n",
    "### Cell instruction: Instructions for question 4-5\n",
    "\n",
    "## CNN for image classification\n",
    "\n",
    "In this exercise you are going to train a CNN that can separate between circles/squares/triangles found in the CRT dataset, and the three different types of rectangles found in R3 dataset. We are going to use 500 training images and 1000 validation images. Code are provided for loading the data, training the model and presenting the result. Your task is to define the actual CNN model and see how it performs. For the following two questions you can optimize the model based on the validation performance. Here we assume that 1000 validation images is large enough such that \"model selection overtraining bias\" is small.\n",
    "\n",
    "#### Question 4\n",
    "Define your own CNN model for classifying the images in the CRT data into three classes. **Provide the details of your CNN model and present the validation result.**\n",
    "\n",
    "**Hint:** Remember the difference between a binary classifier and a multi-class classifier!\n",
    "\n",
    "#### ANS\n",
    "Copied CNN from ex1 and used nodes [100, 50, 20, 3]. Got accuracy 98%\n",
    "\n",
    "#### Question 5\n",
    "Define your own CNN model for classifying the images in the R3 data into three classes. **Provide the details of your CNN model and present the validation result.** **Why is this a more difficult problem?**\n",
    "\n",
    "#### ANS\n",
    "The features defining each class are much clearer for different shapes, compared to same shape in different proportions. Also for the convolutional network, it is much more difficult to find any relation between shape and the classificaiton.\n",
    "\n",
    "#### Bonus task \n",
    "The bonus tasks are provided if you have extra time and want to continue to explore the CNNs. **These tasks are not required for the course and does not influence any grading**. \n",
    "\n",
    "You can use the *layerVisualization* method also for above models (Q4 and Q5). It will show you the different filter outputs. Again try to understand the features the different filter learn to separate between circles-triangles-rectangles, or the rectangles for the R3 data set."
   ]
  },
  {
   "cell_type": "code",
   "execution_count": 28,
   "metadata": {
    "scrolled": false
   },
   "outputs": [
    {
     "name": "stdout",
     "output_type": "stream",
     "text": [
      "Training data input shape:  (500, 64, 64, 1)\n",
      "Training data output shape:  (500, 3)\n",
      "Validation data input shape:  (1000, 64, 64, 1)\n",
      "Validation data output shape:  (1000, 3)\n",
      "Model: \"sequential_9\"\n",
      "_________________________________________________________________\n",
      "Layer (type)                 Output Shape              Param #   \n",
      "=================================================================\n",
      "conv2d_18 (Conv2D)           (None, 62, 62, 300)       3000      \n",
      "_________________________________________________________________\n",
      "max_pooling2d_18 (MaxPooling (None, 31, 31, 300)       0         \n",
      "_________________________________________________________________\n",
      "conv2d_19 (Conv2D)           (None, 29, 29, 250)       675250    \n",
      "_________________________________________________________________\n",
      "max_pooling2d_19 (MaxPooling (None, 14, 14, 250)       0         \n",
      "_________________________________________________________________\n",
      "flatten_9 (Flatten)          (None, 49000)             0         \n",
      "_________________________________________________________________\n",
      "dense_18 (Dense)             (None, 100)               4900100   \n",
      "_________________________________________________________________\n",
      "dense_19 (Dense)             (None, 3)                 303       \n",
      "=================================================================\n",
      "Total params: 5,578,653\n",
      "Trainable params: 5,578,653\n",
      "Non-trainable params: 0\n",
      "_________________________________________________________________\n",
      "Epoch 1/50\n"
     ]
    },
    {
     "name": "stderr",
     "output_type": "stream",
     "text": [
      "2021-12-28 19:31:58.976038: I tensorflow/core/grappler/optimizers/custom_graph_optimizer_registry.cc:112] Plugin optimizer for device_type GPU is enabled.\n"
     ]
    },
    {
     "name": "stdout",
     "output_type": "stream",
     "text": [
      "10/10 [==============================] - ETA: 0s - loss: 1.2610 - accuracy: 0.3880"
     ]
    },
    {
     "name": "stderr",
     "output_type": "stream",
     "text": [
      "2021-12-28 19:32:01.707112: I tensorflow/core/grappler/optimizers/custom_graph_optimizer_registry.cc:112] Plugin optimizer for device_type GPU is enabled.\n"
     ]
    },
    {
     "name": "stdout",
     "output_type": "stream",
     "text": [
      "10/10 [==============================] - 5s 467ms/step - loss: 1.2610 - accuracy: 0.3880 - val_loss: 1.0732 - val_accuracy: 0.4930\n",
      "Epoch 2/50\n",
      "10/10 [==============================] - 4s 452ms/step - loss: 0.9666 - accuracy: 0.5440 - val_loss: 0.9310 - val_accuracy: 0.5140\n",
      "Epoch 3/50\n",
      "10/10 [==============================] - 5s 476ms/step - loss: 0.6720 - accuracy: 0.6780 - val_loss: 0.8963 - val_accuracy: 0.5510\n",
      "Epoch 4/50\n",
      "10/10 [==============================] - 4s 452ms/step - loss: 0.3763 - accuracy: 0.8700 - val_loss: 0.6630 - val_accuracy: 0.7060\n",
      "Epoch 5/50\n",
      "10/10 [==============================] - 4s 451ms/step - loss: 0.1510 - accuracy: 0.9520 - val_loss: 0.7403 - val_accuracy: 0.7430\n",
      "Epoch 6/50\n",
      "10/10 [==============================] - 5s 504ms/step - loss: 0.0698 - accuracy: 0.9740 - val_loss: 0.9492 - val_accuracy: 0.7280\n",
      "Epoch 7/50\n",
      "10/10 [==============================] - 4s 431ms/step - loss: 0.0318 - accuracy: 0.9900 - val_loss: 0.8571 - val_accuracy: 0.7710\n",
      "Epoch 8/50\n",
      "10/10 [==============================] - 4s 445ms/step - loss: 0.0068 - accuracy: 1.0000 - val_loss: 1.0085 - val_accuracy: 0.7710\n",
      "Epoch 9/50\n",
      "10/10 [==============================] - 4s 424ms/step - loss: 0.0041 - accuracy: 1.0000 - val_loss: 1.0299 - val_accuracy: 0.7790\n",
      "Epoch 10/50\n",
      "10/10 [==============================] - 4s 452ms/step - loss: 0.0015 - accuracy: 1.0000 - val_loss: 1.0606 - val_accuracy: 0.7820\n",
      "Epoch 11/50\n",
      "10/10 [==============================] - 4s 427ms/step - loss: 6.6533e-04 - accuracy: 1.0000 - val_loss: 1.1200 - val_accuracy: 0.7810\n",
      "Epoch 12/50\n",
      "10/10 [==============================] - 5s 498ms/step - loss: 4.3411e-04 - accuracy: 1.0000 - val_loss: 1.1328 - val_accuracy: 0.7850\n",
      "Epoch 13/50\n",
      "10/10 [==============================] - 4s 462ms/step - loss: 3.2444e-04 - accuracy: 1.0000 - val_loss: 1.1318 - val_accuracy: 0.7880\n",
      "Epoch 14/50\n",
      "10/10 [==============================] - 5s 477ms/step - loss: 2.5947e-04 - accuracy: 1.0000 - val_loss: 1.1547 - val_accuracy: 0.7890\n",
      "Epoch 15/50\n",
      "10/10 [==============================] - 4s 452ms/step - loss: 2.1629e-04 - accuracy: 1.0000 - val_loss: 1.1777 - val_accuracy: 0.7890\n",
      "Epoch 16/50\n",
      "10/10 [==============================] - 4s 425ms/step - loss: 1.8737e-04 - accuracy: 1.0000 - val_loss: 1.1998 - val_accuracy: 0.7870\n",
      "Epoch 17/50\n",
      "10/10 [==============================] - 4s 441ms/step - loss: 1.6057e-04 - accuracy: 1.0000 - val_loss: 1.2054 - val_accuracy: 0.7880\n",
      "Epoch 18/50\n",
      "10/10 [==============================] - 4s 438ms/step - loss: 1.4005e-04 - accuracy: 1.0000 - val_loss: 1.2226 - val_accuracy: 0.7860\n",
      "Epoch 19/50\n",
      "10/10 [==============================] - 4s 446ms/step - loss: 1.2498e-04 - accuracy: 1.0000 - val_loss: 1.2329 - val_accuracy: 0.7860\n",
      "Epoch 20/50\n",
      "10/10 [==============================] - 4s 455ms/step - loss: 1.1327e-04 - accuracy: 1.0000 - val_loss: 1.2517 - val_accuracy: 0.7850\n",
      "Epoch 21/50\n",
      "10/10 [==============================] - 4s 425ms/step - loss: 9.9476e-05 - accuracy: 1.0000 - val_loss: 1.2583 - val_accuracy: 0.7880\n",
      "Epoch 22/50\n",
      "10/10 [==============================] - 4s 444ms/step - loss: 9.1187e-05 - accuracy: 1.0000 - val_loss: 1.2755 - val_accuracy: 0.7890\n",
      "Epoch 23/50\n",
      "10/10 [==============================] - 4s 446ms/step - loss: 8.3412e-05 - accuracy: 1.0000 - val_loss: 1.2746 - val_accuracy: 0.7910\n",
      "Epoch 24/50\n",
      "10/10 [==============================] - 4s 450ms/step - loss: 7.5234e-05 - accuracy: 1.0000 - val_loss: 1.2885 - val_accuracy: 0.7890\n",
      "Epoch 25/50\n",
      "10/10 [==============================] - 4s 450ms/step - loss: 6.8735e-05 - accuracy: 1.0000 - val_loss: 1.3072 - val_accuracy: 0.7900\n",
      "Epoch 26/50\n",
      "10/10 [==============================] - 4s 443ms/step - loss: 6.3735e-05 - accuracy: 1.0000 - val_loss: 1.3148 - val_accuracy: 0.7910\n",
      "Epoch 27/50\n",
      "10/10 [==============================] - 4s 440ms/step - loss: 5.6390e-05 - accuracy: 1.0000 - val_loss: 1.3372 - val_accuracy: 0.7910\n",
      "Epoch 28/50\n",
      "10/10 [==============================] - 4s 443ms/step - loss: 4.8988e-05 - accuracy: 1.0000 - val_loss: 1.3573 - val_accuracy: 0.7890\n",
      "Epoch 29/50\n",
      "10/10 [==============================] - 4s 458ms/step - loss: 4.1278e-05 - accuracy: 1.0000 - val_loss: 1.3916 - val_accuracy: 0.7890\n",
      "Epoch 30/50\n",
      "10/10 [==============================] - 4s 437ms/step - loss: 3.3284e-05 - accuracy: 1.0000 - val_loss: 1.4294 - val_accuracy: 0.7880\n",
      "Epoch 31/50\n",
      "10/10 [==============================] - 4s 444ms/step - loss: 2.6582e-05 - accuracy: 1.0000 - val_loss: 1.4746 - val_accuracy: 0.7860\n",
      "Epoch 32/50\n",
      "10/10 [==============================] - 4s 441ms/step - loss: 2.1346e-05 - accuracy: 1.0000 - val_loss: 1.5189 - val_accuracy: 0.7880\n",
      "Epoch 33/50\n",
      "10/10 [==============================] - 4s 438ms/step - loss: 1.7546e-05 - accuracy: 1.0000 - val_loss: 1.5481 - val_accuracy: 0.7860\n",
      "Epoch 34/50\n",
      "10/10 [==============================] - 4s 444ms/step - loss: 1.4227e-05 - accuracy: 1.0000 - val_loss: 1.5907 - val_accuracy: 0.7850\n",
      "Epoch 35/50\n",
      "10/10 [==============================] - 5s 473ms/step - loss: 1.2308e-05 - accuracy: 1.0000 - val_loss: 1.6118 - val_accuracy: 0.7850\n",
      "Epoch 36/50\n",
      "10/10 [==============================] - 4s 436ms/step - loss: 1.0913e-05 - accuracy: 1.0000 - val_loss: 1.6398 - val_accuracy: 0.7830\n",
      "Epoch 37/50\n",
      "10/10 [==============================] - 4s 462ms/step - loss: 9.2520e-06 - accuracy: 1.0000 - val_loss: 1.6650 - val_accuracy: 0.7820\n",
      "Epoch 38/50\n",
      "10/10 [==============================] - 4s 426ms/step - loss: 8.2668e-06 - accuracy: 1.0000 - val_loss: 1.6834 - val_accuracy: 0.7810\n",
      "Epoch 39/50\n",
      "10/10 [==============================] - 4s 447ms/step - loss: 7.4348e-06 - accuracy: 1.0000 - val_loss: 1.7038 - val_accuracy: 0.7800\n",
      "Epoch 40/50\n",
      "10/10 [==============================] - 4s 432ms/step - loss: 6.5818e-06 - accuracy: 1.0000 - val_loss: 1.7229 - val_accuracy: 0.7810\n",
      "Epoch 41/50\n",
      "10/10 [==============================] - 4s 432ms/step - loss: 5.7100e-06 - accuracy: 1.0000 - val_loss: 1.7416 - val_accuracy: 0.7800\n",
      "Epoch 42/50\n",
      "10/10 [==============================] - 4s 441ms/step - loss: 5.0816e-06 - accuracy: 1.0000 - val_loss: 1.7583 - val_accuracy: 0.7780\n",
      "Epoch 43/50\n",
      "10/10 [==============================] - 4s 430ms/step - loss: 4.4914e-06 - accuracy: 1.0000 - val_loss: 1.7840 - val_accuracy: 0.7780\n",
      "Epoch 44/50\n",
      "10/10 [==============================] - 4s 429ms/step - loss: 4.1422e-06 - accuracy: 1.0000 - val_loss: 1.7924 - val_accuracy: 0.7760\n",
      "Epoch 45/50\n",
      "10/10 [==============================] - 4s 429ms/step - loss: 3.7783e-06 - accuracy: 1.0000 - val_loss: 1.8142 - val_accuracy: 0.7800\n",
      "Epoch 46/50\n",
      "10/10 [==============================] - 4s 429ms/step - loss: 3.4911e-06 - accuracy: 1.0000 - val_loss: 1.8303 - val_accuracy: 0.7780\n",
      "Epoch 47/50\n",
      "10/10 [==============================] - 4s 429ms/step - loss: 3.2179e-06 - accuracy: 1.0000 - val_loss: 1.8392 - val_accuracy: 0.7760\n",
      "Epoch 48/50\n",
      "10/10 [==============================] - 4s 430ms/step - loss: 3.0809e-06 - accuracy: 1.0000 - val_loss: 1.8598 - val_accuracy: 0.7780\n",
      "Epoch 49/50\n",
      "10/10 [==============================] - 4s 429ms/step - loss: 2.8058e-06 - accuracy: 1.0000 - val_loss: 1.8655 - val_accuracy: 0.7770\n",
      "Epoch 50/50\n",
      "10/10 [==============================] - 4s 431ms/step - loss: 2.5448e-06 - accuracy: 1.0000 - val_loss: 1.8813 - val_accuracy: 0.7770\n"
     ]
    },
    {
     "data": {
      "image/png": "[encoded data removed]",
      "text/plain": [
       "<Figure size 432x288 with 1 Axes>"
      ]
     },
     "metadata": {
      "needs_background": "light"
     },
     "output_type": "display_data"
    },
    {
     "name": "stderr",
     "output_type": "stream",
     "text": [
      "2021-12-28 19:35:32.690938: I tensorflow/core/grappler/optimizers/custom_graph_optimizer_registry.cc:112] Plugin optimizer for device_type GPU is enabled.\n"
     ]
    },
    {
     "name": "stdout",
     "output_type": "stream",
     "text": [
      "Training  log_loss:   0.10743371864024684\n",
      "Training  accuracy:   1.0 \n",
      "\n"
     ]
    },
    {
     "data": {
      "image/png": "[encoded data removed]",
      "text/plain": [
       "<Figure size 576x432 with 2 Axes>"
      ]
     },
     "metadata": {
      "needs_background": "light"
     },
     "output_type": "display_data"
    },
    {
     "name": "stdout",
     "output_type": "stream",
     "text": [
      "Validation  log_loss:   1.2707302660732902\n",
      "Validation  accuracy:   0.777 \n",
      "\n"
     ]
    },
    {
     "data": {
      "image/png": "[encoded data removed]",
      "text/plain": [
       "<Figure size 576x432 with 2 Axes>"
      ]
     },
     "metadata": {
      "needs_background": "light"
     },
     "output_type": "display_data"
    }
   ],
   "source": [
    "# Load the CRT dataset (Question 4)\n",
    "x_trn, d_trn, x_val, d_val, width, height = loadImagesCRT()\n",
    "\n",
    "# Load the R3 dataset (Question 5)\n",
    "x_trn, d_trn, x_val, d_val, width, height = loadImagesR3()\n",
    "\n",
    "print('Training data input shape: ', x_trn.shape)\n",
    "print('Training data output shape: ', d_trn.shape)\n",
    "print('Validation data input shape: ', x_val.shape)\n",
    "print('Validation data output shape: ', d_val.shape)\n",
    "\n",
    "# The size of the images\n",
    "input_shape = (width, height, 1)\n",
    "\n",
    "# # Define the CNN ex3\n",
    "# ex3 = Sequential()\n",
    "\n",
    "# # First conv layer\n",
    "# ex3.add(Conv2D(100, kernel_size=(3, 3), activation='relu', input_shape=input_shape))\n",
    "# ex3.add(MaxPooling2D(pool_size=(2, 2)))\n",
    "\n",
    "# # Second conv layer\n",
    "# ex3.add(Conv2D(50, kernel_size=(3, 3), activation='relu'))\n",
    "# ex3.add(MaxPooling2D(pool_size=(2, 2)))\n",
    "\n",
    "# # Fully connected MLP layers\n",
    "# ex3.add(Flatten())\n",
    "# ex3.add(Dense(20, activation='relu'))\n",
    "\n",
    "# # Output layer\n",
    "# ex3.add(Dense(3, activation='sigmoid'))\n",
    "\n",
    "#\n",
    "# YOUR CODE HERE\n",
    "#\n",
    "\n",
    "\n",
    "\n",
    "# Define the CNN ex3\n",
    "ex3 = Sequential()\n",
    "\n",
    "# First conv layer\n",
    "ex3.add(Conv2D(300, kernel_size=(3, 3), activation='relu', input_shape=input_shape))\n",
    "ex3.add(MaxPooling2D(pool_size=(2, 2)))\n",
    "\n",
    "# Second conv layer\n",
    "ex3.add(Conv2D(250, kernel_size=(3, 3), activation='relu'))\n",
    "ex3.add(MaxPooling2D(pool_size=(2, 2)))\n",
    "\n",
    "# Fully connected MLP layers\n",
    "ex3.add(Flatten())\n",
    "ex3.add(Dense(100, activation='relu'))\n",
    "\n",
    "# Output layer\n",
    "ex3.add(Dense(3, activation='sigmoid'))\n",
    "\n",
    "# We use cross entropy error and the adam optimizer\n",
    "adam = Adam(lr=0.003)\n",
    "ex3.compile(loss='categorical_crossentropy', optimizer=adam, metrics=['accuracy'])\n",
    "ex3.summary()\n",
    "\n",
    "# Now train the ex3\n",
    "estimator_ex3 = ex3.fit(x_trn, d_trn, \n",
    "                      validation_data=(x_val, d_val),\n",
    "                      epochs=50, \n",
    "                      batch_size=50,\n",
    "                      verbose=1)\n",
    "\n",
    "# Training history\n",
    "plt.figure()\n",
    "plt.ylabel('Loss / Accuracy')\n",
    "plt.xlabel('Epoch')\n",
    "for k in estimator_ex3.history.keys():\n",
    "    plt.plot(estimator_ex3.history[k], label = k) \n",
    "plt.legend(loc='best')\n",
    "plt.show()\n",
    "\n",
    "# Training result\n",
    "multi_stat_3(ex3, x_trn, d_trn, 'Training')\n",
    "\n",
    "# Validation result\n",
    "multi_stat_3(ex3, x_val, d_val, 'Validation')"
   ]
  },
  {
   "cell_type": "code",
   "execution_count": 29,
   "metadata": {},
   "outputs": [
    {
     "name": "stdout",
     "output_type": "stream",
     "text": [
      "Prediction:  [9.6123570e-01 9.4220483e-01 1.3546766e-07]\n",
      "Target    :  [0. 1. 0.]\n"
     ]
    },
    {
     "data": {
      "text/plain": [
       "<Figure size 1296x864 with 0 Axes>"
      ]
     },
     "metadata": {},
     "output_type": "display_data"
    },
    {
     "data": {
      "image/png": "[encoded data removed]",
      "text/plain": [
       "<Figure size 1296x864 with 1 Axes>"
      ]
     },
     "metadata": {
      "needs_background": "light"
     },
     "output_type": "display_data"
    },
    {
     "data": {
      "image/png": "[encoded data removed]",
      "text/plain": [
       "<Figure size 1296x864 with 1 Axes>"
      ]
     },
     "metadata": {
      "needs_background": "light"
     },
     "output_type": "display_data"
    },
    {
     "data": {
      "image/png": "[encoded data removed]",
      "text/plain": [
       "<Figure size 1296x864 with 1 Axes>"
      ]
     },
     "metadata": {
      "needs_background": "light"
     },
     "output_type": "display_data"
    }
   ],
   "source": [
    "# Show before or after MaxPooling\n",
    "post_pool = False\n",
    "\n",
    "# The test image to look at\n",
    "idx = 6\n",
    "\n",
    "# Call the visualization method, giving the model and the test data to select the case from\n",
    "layerVisaliztion(ex3, x_val, d_val, idx, post_pool)"
   ]
  },
  {
   "cell_type": "markdown",
   "metadata": {},
   "source": [
    "### CellName: Ex4-1 (#9)\n",
    "### CellType: Exercise\n",
    "### Cell instruction: Instructions for question 6-9\n",
    "\n",
    "## RNN as a pulse converter\n",
    "We will now look at recurrent networks! This exercise is using divided into three cells below. We start by loading and visualizing the data. **Note!** The actual questions for this part can be found in cell *Ex4-3* below.\n",
    "\n",
    "### Loading and visualizing the data\n",
    "The cell below loads the training data and the validation data from existing binary python files and plots one set of training/validation data, both the input sequence and the target sequence. Run the cell by entering into the cell and press \"CTRL Enter\".\n",
    "\n",
    "How is data generated? The input sequence consists of square pulses with varying length and height. The waiting time between the pulses is also varying within some predefined ranges. The lower limit is 2 times the length of the previous pulse. The target triangle pulse sequence is built from the input sequence as follows:\n",
    "* the triangle pulse start when the input square pulse have ended.\n",
    "* the width of the triangle (at the base) is twice the width of the square pulse.\n",
    "* the height of the triangle is the same as the height of the square pulse.\n",
    "\n",
    "The task is now to learn this mapping using a recurrent neural network. There are 500 input/target sequences in the training data and 500 in the test data.\n"
   ]
  },
  {
   "cell_type": "code",
   "execution_count": 30,
   "metadata": {
    "scrolled": false
   },
   "outputs": [
    {
     "name": "stdout",
     "output_type": "stream",
     "text": [
      "Training data input shape:  (500, 100)\n",
      "Training data output shape:  (500, 100)\n",
      "Validation data input shape:  (500, 100)\n",
      "Validation data output shape:  (500, 100)\n"
     ]
    },
    {
     "data": {
      "text/plain": [
       "<matplotlib.legend.Legend at 0x16a825af0>"
      ]
     },
     "execution_count": 30,
     "metadata": {},
     "output_type": "execute_result"
    },
    {
     "data": {
      "image/png": "[encoded data removed]",
      "text/plain": [
       "<Figure size 1080x720 with 4 Axes>"
      ]
     },
     "metadata": {
      "needs_background": "light"
     },
     "output_type": "display_data"
    }
   ],
   "source": [
    "# Load data from files\n",
    "x_trn,d_trn= np.load(\"pulsedata1-trn.npy\")\n",
    "x_val,d_val = np.load(\"pulsedata1-val.npy\")\n",
    "#x_trn,d_val= np.load(\"pulsedata2-trn.npy\")\n",
    "#x_val,d_val = np.load(\"pulsedata2-val.npy\")\n",
    "\n",
    "print('Training data input shape: ', x_trn.shape)\n",
    "print('Training data output shape: ', d_trn.shape)\n",
    "print('Validation data input shape: ', x_val.shape)\n",
    "print('Validation data output shape: ', d_val.shape)\n",
    "\n",
    "# If this is set to True, then we have the reverse problem. Input triangle pulse, target square puls.\n",
    "if False:\n",
    "    d_trn,x_trn = x_trn[:,::-1],d_trn[:,::-1]\n",
    "    d_val,x_val = x_val[:,::-1],d_val[:,::-1]\n",
    "\n",
    "ns,tlen = x_trn.shape\n",
    "t = np.arange(tlen)\n",
    "\n",
    "# The training / test case to look at\n",
    "i = 3\n",
    "\n",
    "# Plot\n",
    "plt.figure(figsize=(15,10))\n",
    "plt.subplot(4,1,1)\n",
    "plt.plot(t,x_trn[i,:])\n",
    "plt.legend(['Training, input sequence'], loc=0)\n",
    "\n",
    "plt.subplot(4,1,2)\n",
    "plt.plot(t,d_trn[i,:])\n",
    "plt.legend(['Training, target sequence'], loc=0)\n",
    "\n",
    "plt.subplot(4,1,3)\n",
    "plt.plot(t,x_val[i,:])\n",
    "plt.legend(['Validation, input sequence'], loc=0)\n",
    "\n",
    "plt.subplot(4,1,4)\n",
    "plt.plot(t,d_val[i,:])\n",
    "plt.legend(['Validation, target sequence'], loc=0)\n"
   ]
  },
  {
   "cell_type": "markdown",
   "metadata": {},
   "source": [
    "### CellName: Ex4-2 (#10)\n",
    "### CellType: Exercise\n",
    "### Cell instruction: Instructions for question 6-9\n",
    "\n",
    "## RNN as a pulse converter\n",
    "### define the model and train\n",
    "Here we are going to setup the model and train it. There are three different models to choose from: \n",
    "* SimpleRNN: Simple feedback weights where the output from a node is feeding back to itself. For several hidden nodes there are feedback weights to all other nodes in the layer.\n",
    "* LSTM: The LSTM unit\n",
    "* GRU: The GRU unit\n",
    "\n",
    "The standard choice of activation function is *tanh*, but you can also test *relu*. When it comes to training this model we are goint to use a possible truncated BPTT approach. The support in Keras for doing this is somewhat limited so here it is implemented manually. In short we have 500 training sequences and we define a mini-batch size *mb* that selects *mb* of these sequences to train using the normal stochastic gradient descent idea. Then we have a variable *batchlen* that is the length of the sequence to use in truncated BPTT. The default values for these are *mb=10* and *batchlen=50*. If you want to train without the truncated BPTT approach put *batchlen=100*.\n",
    "\n",
    "During training we print the normalized training and validation error. Normalized means here that the loss (=MSE) is divided by the variance of the target signal. So that a normalized error of 1 is not so good, but if we get below 0.1 (or so) it means that the error is much smaller than the signal itself.\n",
    "\n",
    "What you need to do in this cell is to define your model and train it."
   ]
  },
  {
   "cell_type": "code",
   "execution_count": null,
   "metadata": {
    "scrolled": false
   },
   "outputs": [],
   "source": [
    "%%time\n",
    "ns,tlen = x_trn.shape\n",
    "\n",
    "# Parameters defining the mini-batch size and \n",
    "# the sequence length for truncated BPTT\n",
    "mb = 10\n",
    "batchlen = 50\n",
    "\n",
    "# The network type\n",
    "#net = SimpleRNN\n",
    "#net = GRU\n",
    "net = LSTM\n",
    "\n",
    "# Number of hidden nodes\n",
    "nh1 = 5\n",
    "\n",
    "# This is only if you would like to add an additional hidden layer. See below.\n",
    "nh2 = 10\n",
    "\n",
    "# The activation function\n",
    "activation = 'tanh'\n",
    "#activation = 'relu'\n",
    "\n",
    "# The number of epochs\n",
    "nE = 20\n",
    "\n",
    "# Start defining the model\n",
    "nmb = ns//mb\n",
    "ntsteps = tlen//batchlen\n",
    "\n",
    "model = Sequential()\n",
    "model.add(net(nh1, \n",
    "              batch_input_shape=(mb,batchlen,1), \n",
    "              stateful=True, \n",
    "              return_sequences=True, \n",
    "              activation=activation))\n",
    "\n",
    "# Uncomment this line if you want to add an additional hidden layer\n",
    "#model.add(net(nh2, stateful=True, return_sequences=True, activation=activation))\n",
    "\n",
    "model.add(TimeDistributed(Dense(1)))\n",
    "\n",
    "adam = Adam(lr=0.003)\n",
    "model.compile(optimizer=adam,loss='mean_squared_error')\n",
    "model.summary()\n",
    "\n",
    "# Now the training part\n",
    "trnTrgVar = np.var(d_trn[:,:])   # Variance for train target signal\n",
    "valTrgVar = np.var(d_val[:,:])   # Variance for validation target signal\n",
    "ndone = 0\n",
    "\n",
    "print('Epoch', 'Time/Epoch', ' Trn-Err', '    Val-Err')\n",
    "for ne in range(nE):\n",
    "    t0 = time.time()\n",
    "    sumlossTrn = 0\n",
    "    for batch in range(nmb):\n",
    "        i1,i2 = batch*mb,(batch+1)*mb\n",
    "        model.reset_states()\n",
    "        for tstep in range(ntsteps):\n",
    "            t1,t2 = tstep*batchlen,(tstep+1)*batchlen\n",
    "            loss = model.train_on_batch(x_trn[i1:i2,t1:t2,None], d_trn[i1:i2,t1:t2,None])\n",
    "            sumlossTrn += loss\n",
    "    meanlossTrn = sumlossTrn/(nmb*ntsteps)\n",
    "\n",
    "    # Validation error\n",
    "    sumlossVal = 0\n",
    "    for batch in range(nmb):\n",
    "        i1,i2 = batch*mb,(batch+1)*mb\n",
    "        model.reset_states()\n",
    "        for tstep in range(ntsteps):\n",
    "            t1,t2 = tstep*batchlen,(tstep+1)*batchlen\n",
    "            loss = model.evaluate(x_val[i1:i2,t1:t2,None], d_val[i1:i2,t1:t2,None],batch_size=mb,verbose=0)\n",
    "            sumlossVal += loss\n",
    "    meanlossVal = sumlossVal/(nmb*ntsteps)\n",
    "    t1 = time.time()\n",
    "    ndone += 1\n",
    "    print(ndone, \"    {:.2f}        {:.5f}     {:.5f}\".format(t1-t0, meanlossTrn/trnTrgVar, meanlossVal/valTrgVar))\n"
   ]
  },
  {
   "cell_type": "markdown",
   "metadata": {},
   "source": [
    "### CellName: Ex4-3 (#11)\n",
    "### CellType: Exercise\n",
    "### Cell instruction: Instructions for question 6-9\n",
    "\n",
    "## RNN as a pulse converter\n",
    "### Plot the result\n",
    "In this cell we just plot the result for one of the first *mb* (minibatch size) test sequences. You can select which of these ones by an index (see the code). Also, the last graph shows the hidden node activation for all of the hidden nodes. **Note:** For the GRU and simpleRNN models this all of the hidden activity there is, but for the LSTM there is also the memory signal. This one is not shown!\n",
    "\n",
    "### Questions\n",
    "We are now finally at the point of asking questions. Whenever you define a new model and train it, you need to run the  cell below in order to show the result for the newly trained model. \n",
    "\n",
    "**Hint!** For all of the questions below you are going to train different models. Keep an eye on how the training error is developing. If you see large fluctuations, you may to change the learning rate. The default value of 0.003 should be OK for most trainings. \n",
    "\n",
    "#### Question 6\n",
    "(Just to get started!) Define a simpleRNN model with 5 hidden nodes and train it for about 20 epochs. **What validation error do you obtain?** \n",
    "\n",
    "Hint: The validation error can be found during \"training\" as the error for the last epoch.\n",
    "Hint: You may have to train a couple of times to make sure that you did not end up in a \"bad\" local minima the first time.\n",
    "\n",
    "#### Question 7\n",
    "Test different models! Train the three different models (one hidden layer only) with the approximately the same number of trainable weights (around 150-200) and decide which of them that works best? **So, out of the three different models, *simpleRNN, GRU och LSTM*, which one worked best using the same number weights?**\n",
    "\n",
    "#### Question 8\n",
    "Interpretation! You are now going to interpret the hidden node outputs. Remember that the actual output for each time is a linear combination of the hidden node outputs. As said before you can see the hidden nodes output in the last plot. Note that the weights in the dense layer can have different signs so that hidden nodes outputs can be linearly combined with both positive and negatives signs. Train a *GRU* model with 3 hidden nodes for about 20 epochs. **Try to explain what the different hidden nodes are detecting**.\n",
    "\n",
    "Comment: This is of course a question with no definite true answer. We just want you to interpret what the different nodes are doing.\n",
    "\n",
    "#### Question 9\n",
    "If you look at the top of cell *Ex4-1* you can, by changing False -> True, define the reverse problem (see top of the code cell). That is, input is the triangle pulse and target is the square pulse. This should be a more difficult problem! **Why?** **Present a RNN model that can \"solve\" this reverse problem (i.e. below 0.1 in test error).**\n",
    "\n",
    "Hint: Here you can experiment with two hidden layers of LSTM/GRU/SimpleRNN nodes\n",
    "\n",
    "#### Bonus question\n",
    "The bonus tasks are provided if you have extra time. **These tasks are not required for the course and does not influence any grading**.\n",
    "\n",
    "In cell #9 where you load the data for the pulse converter problem you can change the name of the file to read: *pulsedata1-trn.npy* -> *pulsedata2-trn.npy* and *pulsedata1-val.npy* -> *pulsedata2-val.npy*. This will load a more difficult pulse converter problem. The input sequence is almost the same, but the rule for making the target sequence is different. Instead of using the same height of the triangle pulse as the square pulse, the height now depends on all **previous** square pulse heights. The dependence is a weighted average of all previous heights, where the most recent ones have a larger weights (exponential decay of weights). The task for this bonus question is simply to train a model that can *accurately* do the conversion. For this problem there sequences are of length 500, but only 200 sequences for training.\n"
   ]
  },
  {
   "cell_type": "code",
   "execution_count": null,
   "metadata": {},
   "outputs": [],
   "source": [
    "xshow = x_val[:mb]\n",
    "dshow = d_val[:mb]\n",
    "dout = np.zeros((mb,tlen))\n",
    "hidden1 = np.zeros((mb,tlen,nh1))\n",
    "hidden2 = np.zeros((mb,tlen,nh2))\n",
    "\n",
    "rnn1 = model.layers[0]\n",
    "rnn2= model.layers[1]\n",
    "\n",
    "#dense = model.layers[-1]\n",
    "#sign = K.sign(dense.layer.kernel)[None,None,:,0]\n",
    "if len(model.layers) > 2 :\n",
    "    intermediate = K.function([rnn1.input], [rnn1.output, rnn2.output ])\n",
    "else :\n",
    "    intermediate = K.function([rnn1.input], [rnn1.output])\n",
    "\n",
    "for tstep in range(ntsteps):\n",
    "    t1,t2 = tstep*batchlen,(tstep+1)*batchlen\n",
    "    inp = xshow[:,t1:t2,None]\n",
    "    if len(model.layers) > 2 :\n",
    "        hi,hi2 = intermediate([inp])\n",
    "        hidden2[:,t1:t2:,:] = hi2\n",
    "    else :\n",
    "        hi, = intermediate([inp])\n",
    "    hidden1[:,t1:t2:,:] = hi\n",
    "    yi = model.predict(xshow[:,t1:t2,None])\n",
    "    dout[:,t1:t2] = yi[:,:,0]\n",
    "\n",
    "t = np.arange(tlen)\n",
    "\n",
    "# Selection of validation sequence, valid range is [0,mb]\n",
    "i = 0\n",
    "\n",
    "plt.figure(figsize=(15,10))\n",
    "\n",
    "plt.subplot(4,1,1)\n",
    "plt.plot(t,xshow[i],'-',marker='.')\n",
    "plt.legend(['Training, input sequence'], loc=0)\n",
    "\n",
    "plt.subplot(4,1,2)\n",
    "plt.plot(t,dshow[i],'-',marker='.')\n",
    "plt.plot(t,dout[i],'-',marker='.')\n",
    "plt.legend(['Validation, target sequnce', 'Validation, predicted sequence'], loc=0)\n",
    "\n",
    "plt.subplot(4,1,3)\n",
    "plt.plot(t,hidden1[i],'-',marker='.')\n",
    "plt.title('Hidden 1 node outputs')\n",
    "\n",
    "if len(model.layers) > 2 :\n",
    "    plt.subplot(4,1,4)\n",
    "    plt.plot(t,hidden2[i],'-',marker='.')\n",
    "    plt.title('Hidden 2 node outputs')"
   ]
  },
  {
   "cell_type": "markdown",
   "metadata": {},
   "source": [
    "### CellName: Ex5-1 (#12)\n",
    "### CellType: Exercise\n",
    "### Cell instruction: Instructions for question 10-11\n",
    "\n",
    "## RNN: Sampling from a character model\n",
    "As a final exercise we are going to look into an example where a recurrent network is used to predict a sequence of characters. The model is autoregressive, meaning that the previous values $\\ldots, x_{i-2}, x_{i-1}$ is used to predict $x_i$. In the model characters are represented as vectors with the same number of elements as the number of unique characters in the sequence. The input in each sequence step is a single character, represented using \"one-hot\" coding, that is exactly one vector element is one, representing that particular character. The output is on the other hand a probability vector over all characters, which can be used to sample a character from the predictive distribution. To sample long sequences of characters, we feed one sampled character back into the network, to predict the character after that and so on.\n",
    "\n",
    "The sequence of characters that we are going to train on is the source code of Tensorflow (C++). The size of the downloaded source code is approximately 14 Mb, which means about 14 million characters in the sequence. The number of unique characters is 103. Therefore the output layer consists of 103 nodes with a softmax activation function. The RNN model itself is rather large, it consists of two layers of 1024 LSTM nodes in each layer. In addition to that there are skip-layer connections from input to second hidden layer and skip connections from first hidden layer to the output layer. In total there are about 13.5 million weights in this model.\n",
    "\n",
    "This model take too long time to train as part of this lab. It takes days rather than minutes to train! Therefore pre-trained weights are handed out as part of the lab material. This is the file that you needed to download from an external URL!\n",
    "\n",
    "Given such a model we can now \"sample\" from it. Given some initial sequence of characters, as a seed, we can run the model for a number of sequence steps in order to find the sequence of predicted characters. But we can do more! Since the output is a vector of probabilities for new characters we can sample from it. As an example assume we only have 5 characters in our vocabulary and the prediction for a new character is:\n",
    "\n",
    "(0.1, 0.3, 0.5, 0.0, 0.1)\n",
    "\n",
    "So the character represented by the third position would be selected since it has the largest probability. But if we treat these number as probabilities we can say that half of the times we are going to select the third character, 30% of the time we select the character represented by the second position and so on. To even make things more random we can modify these probabilities such that they become more equal (high temperature) or that the largest probability becomes even larger (small temperature). This temperature parameter *temp* can be changed so that the sampling becomes completely random (very high *temp*) or completely deterministic (very low *temp*).\n",
    "\n",
    "The code cell below just defines the model and loads the pre-trained weights onto the model. Run the cell! It can take some seconds to do that!\n"
   ]
  },
  {
   "cell_type": "code",
   "execution_count": null,
   "metadata": {},
   "outputs": [],
   "source": [
    "# set of all chars appearing in tensorflow source code:\n",
    "chars = ['\\t', '\\n'] + [chr(x) for x in range(32,127)] + ['°', 'θ', 'μ', 'ν', '’', '\\ufeff']\n",
    "char_indices = dict((c, i) for i, c in enumerate(chars))\n",
    "\n",
    "# build the model: two layers of LSTM\n",
    "nh = 1024\n",
    "arch = LSTM\n",
    "inp = Input(batch_shape=(1, 1, len(chars)))\n",
    "h1layer = arch(nh, return_sequences=True, stateful=True)\n",
    "h2layer = arch(nh, stateful=True)\n",
    "is_skip = True\n",
    "h1 = h1layer(inp)\n",
    "i2 = concatenate([inp, h1])\n",
    "h2 = h2layer(i2)\n",
    "h1last = Lambda(lambda h: h[:,-1,:])(h1)\n",
    "rnnout = concatenate([h1last, h2])\n",
    "beta_var = K.variable(1.0)\n",
    "d = Dense(len(chars))(rnnout)\n",
    "d = Lambda(lambda d: d * beta_var)(d)\n",
    "out = Activation('softmax')(d)\n",
    "m = Model([inp], [out])\n",
    "m.compile(loss='categorical_crossentropy', optimizer='adam')\n",
    "m.summary()\n",
    "\n",
    "# Load the weights\n",
    "m.load_weights(\"charmodel.h5\")\n"
   ]
  },
  {
   "cell_type": "markdown",
   "metadata": {},
   "source": [
    "### CellName: Ex5-2 (#13)\n",
    "### CellType: Exercise\n",
    "### Cell instruction: Instructions for question 10-11\n",
    "\n",
    "## RNN: Sampling from a character model\n",
    "In the cell below a function is defined that perform the actual sampling. It takes three parameters as input. (i) the starting sequence *seed*, (ii) the length of the sequence to generate *seqLen* and (iii) the temperature used during sampling *temp*. \n",
    "\n",
    "#### Question 10\n",
    "Run the cell below with the given parameters. **Does it look like C++ code?**\n",
    "\n",
    "#### Question 11\n",
    "Change the seed to something else! **What happens when you decrease/increase the temperature (e.g 0.7-1.5)?**\n"
   ]
  },
  {
   "cell_type": "code",
   "execution_count": null,
   "metadata": {},
   "outputs": [],
   "source": [
    "def sampletxt(seed=\" \", n=50, t=1.0):\n",
    "    m.reset_states()\n",
    "    K.set_value(beta_var, 1/t)\n",
    "\n",
    "    for c in seed:\n",
    "        x_pred = np.zeros((1, 1, len(chars)))\n",
    "        x_pred[0, 0, char_indices[c]] = 1.\n",
    "        p = m.predict(x_pred, verbose=[0])\n",
    "        \n",
    "    txt = []\n",
    "    for i in range(n):\n",
    "        preds = p[0].astype('float64')\n",
    "        preds = preds/np.sum(preds) # some numericol issue\n",
    "        probas = np.random.multinomial(1, preds, 1)\n",
    "        next_index = np.argmax(probas)\n",
    "        txt.append(chars[next_index])\n",
    "        p = m.predict(probas[None,:,:], verbose=0)\n",
    "\n",
    "    return ''.join(txt)\n",
    "\n",
    "#seed = \" \"\n",
    "seed = \"void \"\n",
    "#seed = \"for (int\"\n",
    "seqLen = 500\n",
    "temp = 1.0\n",
    "\n",
    "print(seed + sampletxt(seed,seqLen,temp))\n"
   ]
  },
  {
   "cell_type": "markdown",
   "metadata": {},
   "source": [
    "# The report!\n",
    "\n",
    "\n",
    "### Name\n",
    "\n",
    "### Introduction\n",
    "\n",
    "### Answers to questions\n",
    "\n",
    "### Summary\n",
    "  "
   ]
  }
 ],
 "metadata": {
  "kernelspec": {
   "display_name": "Python 3 (ipykernel)",
   "language": "python",
   "name": "python3"
  },
  "language_info": {
   "codemirror_mode": {
    "name": "ipython",
    "version": 3
   },
   "file_extension": ".py",
   "mimetype": "text/x-python",
   "name": "python",
   "nbconvert_exporter": "python",
   "pygments_lexer": "ipython3",
   "version": "3.8.11"
  }
 },
 "nbformat": 4,
 "nbformat_minor": 2
}
