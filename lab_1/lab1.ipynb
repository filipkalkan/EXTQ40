{
 "cells": [
  {
   "cell_type": "markdown",
   "metadata": {},
   "source": [
    "<h1 style=\"font-size:40px;\"><center>Exercise I:<br> Training of simple MLP models\n",
    "</center></h1>\n"
   ]
  },
  {
   "cell_type": "markdown",
   "metadata": {},
   "source": [
    "# Short summary\n",
    "In this exercise you will: \n",
    "\n",
    "* train MLPs and for simple classification and regression problems.\n",
    "* learn how hyper parameters such as learning rate, batch size and number of epochs effect the training.\n",
    "\n",
    "There are 8 questions in this exercise. These 8 questions can be found in three different cells below (see section \"The Different Cells\"). \n",
    "\n",
    "You should write the report of the exercise within this notebook. The details of how to do that can be found below in section \"Writing the report\". Finally before you start:\n",
    "\n",
    "**Deadline for submitting the report: November 26, 13:00 (2021)**\n",
    "\n",
    "## The data\n",
    "We will use two synthetic different data sets in this exercise\n",
    "\n",
    "### syn2\n",
    "The *syn2* dataset represents a binary classification problem. The input data is 2D which allows for an easy visual inspection of the different classes and the decision boundary implemented by the network. The dataset is generated \"on the fly\" each time. Data are generated from various normal distributions. Since they are generated using random numbers it means that each time you generate the data it will be slightly different from next time. You can control this by having a fixed *seed* to the random number generator. The cell \"PlotData\" will plot the *syn2* dataset.\n",
    "\n",
    "### regr1\n",
    "There is also a synthetic regression problem, called *regr1*. It has one input and one output (target) variable. It a cosinus function, with the possibility to add some noise and dampening on the output. Again see the cell \"PlotData\" to look at the dataset.\n",
    "\n",
    "## The exercises\n",
    "There are 8 questions, where the first 6 questions will use the *regr1* dataset and question 7-8 will use *syn2*.\n",
    "\n",
    "## The different 'Cells'\n",
    "This notebook contains several cells with python code, together with the markdown cells (like this one) with only text. Each of the cells with python code has a \"header\" markdown cell with information about the code. The table below provides a short overview of the code cells. \n",
    "\n",
    "| #  |  CellName | CellType | Comment |\n",
    "| :--- | :-------- | :-------- | :------- |\n",
    "| 1 | Init | Needed | Sets up the environment|\n",
    "| 2 | MLP | Needed | Defines the MLP model |\n",
    "| 3 | Data | Needed | Defines the functions to generate the artificial datasets |\n",
    "| 4 | PlotData | Information | Plots the 2D classification datasets |\n",
    "| 5 | Statistics | Needed | Defines the functions that calculates various performance measures |\n",
    "| 6 | Boundary | Needed | Function that can show 2D classification boundaries | \n",
    "| 7 | Ex1 | Exercise | For question 1-4 |\n",
    "| 8 | Ex2 | Exercise | For question 5-6 |\n",
    "| 9 | Ex3 | Exercise | For question 7-8 |\n",
    "\n",
    "In order for you to start with the exercise you need to run all cells with the celltype \"Needed\". The very first time you start with this exercise we suggest that you enter each of the needed cells, read the cell instruction and run the cell. It is important that you do this in the correct order, starting from the top and work you way down the cells. Later when you have started to work with the notebook it may be easier to use the command \"Run All\" or \"Run all above\" found in the \"Cell\" dropdown menu.\n",
    "\n",
    "## Writing the report\n",
    "First the report should be written within this notebook. We have prepared the last cell in this notebook for you where you should write the report. The report should contain 4 parts:\n",
    "\n",
    "* Name:\n",
    "* Introduction: A **few** sentences where you give a small introduction of what you have done in the lab.\n",
    "* Answers to questions: For each of the questions provide an answer. It can be short answers or a longer ones depending on the nature of the questions, but try to be effective in your writing.\n",
    "* Conclusion: Summarize your findings in a few sentences.\n",
    "\n",
    "It is important that you write the report in this last cell and **not** after each question! \n",
    "\n",
    "## Last but not least\n",
    "Have fun!\n",
    "\n",
    "---"
   ]
  },
  {
   "cell_type": "markdown",
   "metadata": {},
   "source": [
    "### CellName: Init (#1)\n",
    "### CellType: Needed\n",
    "### Cell instruction: Initializing the libraries\n",
    "\n",
    "In the cell below, we will import needed libraries. \n",
    "\n",
    "Run the cell by entering into the cell and press \"CTRL Enter\"."
   ]
  },
  {
   "cell_type": "code",
   "execution_count": 1,
   "metadata": {},
   "outputs": [],
   "source": [
    "import tensorflow as tf\n",
    "import tensorflow.keras as keras\n",
    "from tensorflow.keras import backend as K\n",
    "from tensorflow.keras import metrics, regularizers, optimizers\n",
    "from tensorflow.keras.layers import Dense, Input, Dropout\n",
    "from tensorflow.keras.models import Model\n",
    "\n",
    "import matplotlib as mpl\n",
    "import matplotlib.pyplot as plt\n",
    "import numpy as np\n",
    "import random as rn\n",
    "import scipy as sp\n",
    "from sklearn.model_selection import train_test_split, KFold\n",
    "from sklearn.metrics import confusion_matrix, log_loss, classification_report\n",
    "import pandas as pd"
   ]
  },
  {
   "cell_type": "markdown",
   "metadata": {},
   "source": [
    "### CellName: MLP (#2)\n",
    "### CellType: Needed\n",
    "### Cell instruction: Defining the MLP model\n",
    "\n",
    "This cell defines the MLP model. There are a number of parameters that is needed to \n",
    "define a model. Here is a list of them: **Note:** They can all be specified when you call\n",
    "this function in later cells. The ones specified in this cell are the default values.\n",
    "\n",
    "* inp_dim: the input dimension (integer)\n",
    "\n",
    "* n_nod: size of the network, eg [5] for a one hidden layer with 5 nodes and [5,3] for a two layer network with 5 and 3 hidden nodes each.\n",
    "\n",
    "* act_fun: the activation function. Most common are\n",
    "    * 'relu'\n",
    "    * 'tanh'\n",
    "        \n",
    "* out_act_fun: the activation function for the output nodes. Most common are\n",
    "    * 'linear'\n",
    "    * 'sigmoid'\n",
    "    * 'softmax'\n",
    "    \n",
    "* opt_method: The error minimization method. Common choices\n",
    "    * 'SGD'\n",
    "    * 'Adam'\n",
    "    \n",
    "* cost_fun: The error function used during training. There are three common ones\n",
    "    * 'mean_squared_error'\n",
    "    * 'binary_crossentropy'\n",
    "    * 'categorical_crossentropy'\n",
    "\n",
    "* lr_rate: The learning rate.\n",
    "\n",
    "* metric: The metric to use besides the loss. Common values\n",
    "    * accuracy\n",
    "    * mse\n",
    "\n",
    "Run the cell by entering into the cell and press \"CTRL Enter\"."
   ]
  },
  {
   "cell_type": "code",
   "execution_count": 2,
   "metadata": {},
   "outputs": [],
   "source": [
    "def mlp(inp_dim,\n",
    "            n_nod,\n",
    "            act_fun = 'tanh',\n",
    "            out_act_fun = 'linear',\n",
    "            opt_method = 'SGD',\n",
    "            cost_fun = 'mse',\n",
    "            lr_rate = 0.01,\n",
    "            metric = 'mse',\n",
    "            num_out = None):\n",
    "    \n",
    "    lays = [inp_dim] + n_nod\n",
    "    \n",
    "    main_input = Input(shape=(inp_dim,), dtype='float32', name='main_input')\n",
    "    \n",
    "    X = main_input\n",
    "    for i, nod in enumerate(n_nod):\n",
    "        X = Dense(nod, \n",
    "                  activation = act_fun)(X)\n",
    "        \n",
    "    output = Dense(1, activation = out_act_fun )(X)\n",
    "    \n",
    "    method = getattr(optimizers, opt_method)\n",
    "    \n",
    "    model =  Model(inputs=[main_input], outputs=[output])\n",
    "    model.compile(optimizer = method(lr = lr_rate),\n",
    "                  loss = cost_fun,\n",
    "                  metrics=[metric])       \n",
    "\n",
    "    return model\n",
    "\n"
   ]
  },
  {
   "cell_type": "markdown",
   "metadata": {},
   "source": [
    "### CellName: Data (#3)\n",
    "### CellType: Needed\n",
    "### Cell instruction: Defining synthetic data sets\n",
    "\n",
    "This cell defines the two synthetic datasets. The last function is used for standardization of the data. \n",
    "\n",
    "Run the cell by entering into the cell and press \"CTRL Enter\"."
   ]
  },
  {
   "cell_type": "code",
   "execution_count": 3,
   "metadata": {},
   "outputs": [],
   "source": [
    "def syn2(N):\n",
    "    \n",
    "    global seed\n",
    "     \n",
    "    x = np.empty(shape=(N,2), dtype = np.float32)  \n",
    "    d = np.empty(shape=(N,), dtype = np.float32) \n",
    "    N1 = int(N/2)\n",
    "\n",
    "    # Positive samples\n",
    "    x[:N1,:] = 0.8 + np.random.normal(loc=.0, scale=1., size=(N1,2))\n",
    "\n",
    "    # Negative samples \n",
    "    x[N1:,:] = -.8 + np.random.normal(loc=.0, scale=1., size=(N-N1,2))\n",
    "    \n",
    "    # Target\n",
    "    d[:N1] = np.ones(shape=(N1,))\n",
    "    d[N1:] = np.zeros(shape=(N-N1,))\n",
    "\n",
    "    return x,d\n",
    "\n",
    "\n",
    "def regr1(N, len = 2, damp=0, v=0):\n",
    "\n",
    "    global seed\n",
    "\n",
    "    dx = 2*len*np.pi /(N-1)\n",
    "    x = np.empty(N, dtype = np.float32) \n",
    "    for i in range(N):\n",
    "        x[i] = i*dx\n",
    "    \n",
    "    noise =  lambda  n : np.random.normal(0,1,n)\n",
    "    if damp == 1:\n",
    "        d = np.cos(x)*np.exp(-x*0.05)\n",
    "    else:\n",
    "        d = np.cos(x)\n",
    "    \n",
    "    std_signal = np.std(d)\n",
    "    d = d + v * std_signal * noise(N)\n",
    "        \n",
    "    return x, d\n",
    "\n",
    "\n",
    "def standard(x):\n",
    "    return np.mean(x, axis=0) , np.std(x, axis=0)\n",
    "    "
   ]
  },
  {
   "cell_type": "markdown",
   "metadata": {},
   "source": [
    "### CellName: PlotData (#4)\n",
    "### CellType: Information\n",
    "### Cell instruction: Plotting the data\n",
    "\n",
    "Here we just generate 100 cases for *syn2* and the *regr1* dataset and plot them. \n",
    "\n",
    "Run the cell by entering into the cell and press \"CTRL Enter\". \n",
    "\n",
    "**Note!** This cell is not needed for the actual exercises, it is just to visualize the two datasets."
   ]
  },
  {
   "cell_type": "code",
   "execution_count": 4,
   "metadata": {
    "scrolled": false
   },
   "outputs": [
    {
     "data": {
      "text/plain": [
       "<matplotlib.collections.PathCollection at 0x1e62e196cd0>"
      ]
     },
     "execution_count": 4,
     "metadata": {},
     "output_type": "execute_result"
    },
    {
     "data": {
      "image/png": "[encoded data removed]",
      "text/plain": [
       "<Figure size 432x288 with 1 Axes>"
      ]
     },
     "metadata": {
      "needs_background": "light"
     },
     "output_type": "display_data"
    },
    {
     "data": {
      "image/png": "[encoded data removed]",
      "text/plain": [
       "<Figure size 432x288 with 1 Axes>"
      ]
     },
     "metadata": {
      "needs_background": "light"
     },
     "output_type": "display_data"
    },
    {
     "data": {
      "image/png": "[encoded data removed]",
      "text/plain": [
       "<Figure size 432x288 with 1 Axes>"
      ]
     },
     "metadata": {
      "needs_background": "light"
     },
     "output_type": "display_data"
    }
   ],
   "source": [
    "# seed = 0 means random, seed > 0 means fixed\n",
    "seed = 0\n",
    "np.random.seed(seed) if seed else None\n",
    "\n",
    "x,d = syn2(100)\n",
    "plt.figure(1)\n",
    "plt.scatter(x[:,0],x[:,1], c=d)\n",
    "\n",
    "# Regression, one period, no noise\n",
    "x,d = regr1(100, 2, 0, 0)\n",
    "plt.figure(2)\n",
    "plt.scatter(x,d)\n",
    "\n",
    "# Regression, 1.5 period, exponential damping, some noise\n",
    "x,d = regr1(100, 3, 1, 0.2)\n",
    "plt.figure(3)\n",
    "plt.scatter(x,d)\n"
   ]
  },
  {
   "cell_type": "markdown",
   "metadata": {},
   "source": [
    "### CellName: Statistics (#5)\n",
    "### CellType: Needed\n",
    "### Cell instruction: Present result for both classification and regression problems\n",
    "\n",
    "This cell defines two functions that we are going to call using a trained model to calculate both error and performance measures. \n",
    "\n",
    "Run the cell by entering into the cell and press \"CTRL Enter\"."
   ]
  },
  {
   "cell_type": "code",
   "execution_count": 4,
   "metadata": {},
   "outputs": [],
   "source": [
    "def stats_class(x = None, y = None, label = 'Training', modl = None):\n",
    "    \"\"\"\n",
    "    input :  \n",
    "             x = input\n",
    "             y = output\n",
    "             label = \"Provided text string\"\n",
    "             modl = the model\n",
    "             \n",
    "    output : \n",
    "             accuracy = fraction of correctly classified cases\n",
    "             loss = typically the cross-entropy error\n",
    "    \"\"\"\n",
    "    \n",
    "    def binary(y1):\n",
    "        y1[y1>.5] = 1.\n",
    "        y1[y1<= .5] = 0.        \n",
    "        return y1\n",
    "\n",
    "    y_pr = modl.predict(x, batch_size = x.shape[0], verbose=0).reshape(y.shape)\n",
    "                \n",
    "    nof_p, tp, nof_n, tn = [np.count_nonzero(k) for k in [y==1, y_pr[y==1.] > 0.5, y==0, y_pr[y==0.]<= 0.5]]\n",
    "    \n",
    "    acc = (tp + tn) / (len(y))\n",
    "    loss = modl.evaluate(x, y , batch_size =  x.shape[0], verbose=0)\n",
    "                \n",
    "    A = ['Accuracy', 'CEE']\n",
    "    B = [acc, loss[0]]\n",
    "    \n",
    "    print('\\n','#'*10,'STATISTICS for {} Data'.format(label), '#'*10, '\\n')\n",
    "    for i in range(len(A)):\n",
    "        print('{:15} {:.4f}'.format(A[i], B[i]))\n",
    "\n",
    "    return print('\\n','#'*50)\n",
    "\n",
    "def stats_reg(d = None, d_pred = None, label = 'Training', estimat = None):\n",
    "    \n",
    "    A = ['MSE']\n",
    "    \n",
    "    if label.lower() in ['training', 'trn', 'train']:\n",
    "        mse = estimat.history['loss'][-1]\n",
    "    else:\n",
    "        mse = estimat.history['val_loss'][-1] \n",
    "\n",
    "    B = [mse]\n",
    "    \n",
    "    print('\\n','#'*10,'STATISTICS for {} Data'.format(label), '#'*10, '\\n')\n",
    "    for i in range(len(A)):\n",
    "        print('{:15} {:.10f}'.format(A[i], B[i]))\n",
    "\n",
    "    return print('\\n','#'*50)\n"
   ]
  },
  {
   "cell_type": "markdown",
   "metadata": {},
   "source": [
    "### CellName: Boundary (#6)\n",
    "### CellType: Needed\n",
    "### Cell Instruction: Decision boundary\n",
    "\n",
    "This cell defines the function to plot the decision boundary for a 2D input binary MLP classifier. In short, this function defines a grid covering the input data. Each grid point is then used as an input to the trained MLP and to compute an output. If the output is close to 0.5 it is marked as the boundary. \n",
    "\n",
    "Run the cell by entering into the cell and press \"CTRL Enter\"."
   ]
  },
  {
   "cell_type": "code",
   "execution_count": 5,
   "metadata": {},
   "outputs": [],
   "source": [
    "def decision_b(X, Y1, model ):\n",
    "    \n",
    "    x_min, x_max = X[:, 0].min() - .5, X[:, 0].max() + .5\n",
    "    y_min, y_max = X[:, 1].min() - .5, X[:, 1].max() + .5\n",
    "    # grid stepsize\n",
    "    h = 0.025\n",
    "\n",
    "    xx, yy = np.meshgrid(np.arange(x_min, x_max, h), np.arange(y_min, y_max, h))\n",
    "    Z = model.predict(np.c_[xx.ravel(), yy.ravel()])\n",
    "    Z = Z.reshape(xx.shape)\n",
    "    \n",
    "    Z[Z>.5] = 1\n",
    "    Z[Z<= .5] = 0\n",
    "\n",
    "    Y_pr = model.predict(X, batch_size = X.shape[0], verbose=0).reshape(Y1.shape)\n",
    "  \n",
    "    Y = np.copy(Y1)\n",
    "    Y_pr[Y_pr>.5] = 1\n",
    "    Y_pr[Y_pr<= .5] = 0\n",
    "    Y[(Y!=Y_pr) & (Y==0)] = 2\n",
    "    Y[(Y!=Y_pr) & (Y==1)] = 3\n",
    "    \n",
    "    \n",
    "    plt.figure()\n",
    "    #plt.contourf(xx, yy, Z, cmap=plt.cm.PRGn, alpha = .9) \n",
    "    plt.contour(xx, yy, Z, cmap=plt.cm.Paired)\n",
    "    \n",
    "    \n",
    "    plt.scatter(X[:, 0][Y==1], X[:, 1][Y==1], marker='+', c='k')\n",
    "    plt.scatter(X[:, 0][Y==0], X[:, 1][Y==0], marker='o', c='k')\n",
    "       \n",
    "    plt.scatter(X[:, 0][Y==3], X[:, 1][Y==3], marker = '+', c='r')   \n",
    "    plt.scatter(X[:, 0][Y==2], X[:, 1][Y==2], marker = 'o', c='r')\n",
    "    \n",
    "    \n",
    "    plt.ylabel('x2')\n",
    "    plt.xlabel('x1')\n",
    "    plt.show()\n"
   ]
  },
  {
   "cell_type": "markdown",
   "metadata": {},
   "source": [
    "---\n",
    "End of \"Needed\" and \"Information\" cells. Below are the cells for the actual exercise.\n",
    "\n",
    "---"
   ]
  },
  {
   "cell_type": "markdown",
   "metadata": {},
   "source": [
    "### CellName: Ex1 (#7)\n",
    "### CellType: Exercise\n",
    "### Cell instruction: Instruction for question 1-4\n",
    "The cell below should be used for questions 1-4.\n",
    "\n",
    "The following questions will look at three essential parameters that controls the training process of an MLP. By training process we mean here the minimization of the given loss function. The parameters are the *learning rate*, *batch size* and *number of epochs* (or epochs for short). The task is to train an MLP that can fit the *regr1* dataset, i.e. a regression problem. Given the nature of this regression problem we know that we will need more than one hidden node. From experience we know that four hidden nodes are enough to accurately fit the training data, hence we will use four hidden nodes for this first exercise. \n",
    "\n",
    "The exercise will study how the learningrate, batchsize and epochs influences the training. A successful training means here when the networks has reached a low loss (< 0.01) and visually have fitted the data accurately. In this exercise we do not care about possible overfitting, only about the minimization of the loss function, we therefore do not have a validation dataset.\n",
    "\n",
    "#### Question 1\n",
    "For the first question you can simply run the cell below. It will load 50 samples from the *regr1* dataset (no noise added). The network has 4 hidden nodes in a single hidden layer, *tanh* activation function, linear output activation function, *stochastic gradient descent* as minimization method, MSE loss function, and a learning rate of 0.05.\n",
    "It will train for 4000 epochs using a batchsize of 50, meaning that we efficiently are using ordinary gradient descent learning. Run this cell five times. **(a) Do you see the same loss vs epoch behavior each time your run?** If no **why?**. **(b) Do you observe that training fails, i.e. do not reach low loss, during these five runs?** \n",
    "\n",
    "#### Question 2\n",
    "You will now study what happens when you train with different learning rates. Train with different learning rates in the range 0.001 to 0.5. Test at least 5 different learning rates in that range and for each learning rate train the network three times and record the average MSE value over these three runs. **Discuss your findings**.\n",
    "\n",
    "**Note:** You should keep the same settings as for Q1, only vary the learning rate. \n",
    "\n",
    "#### Question 3\n",
    "We now (hopefully) have discovered that the size of the learning rate have an influence of the efficiency of the minimization of the loss function. We will now look at what happens when we use *stochastic gradient descent*, meaning that we will have a batch size that is smaller the the size of the training data. Use a fixed learning rate of 0.05, but test different batch sizes in the range 1 to 50. Again train three different networks for each batch size, but this time record if the training was successful (i.e. MSE < 0.01) and approximately after how many epochs the good solution was found. **Discuss your findings**.\n",
    "\n",
    "#### Question 4\n",
    "Now we want to vary both the learning rate and the batch size to find an optimal setting for training this network. Your task is to find a combination of learning rate and batch size that will find a good solution within 1000 epochs. We always have to remember that two runs with identical hyper parameters (e.g. learning rate, batch size etc) will result in different final results. Your set of parameters should *most* for the times result in a good solution within 1000 epochs. **Present your best combination of learning rate and batch size**.\n"
   ]
  },
  {
   "cell_type": "code",
   "execution_count": 56,
   "metadata": {},
   "outputs": [
    {
     "name": "stdout",
     "output_type": "stream",
     "text": [
      "Model: \"functional_99\"\n",
      "_________________________________________________________________\n",
      "Layer (type)                 Output Shape              Param #   \n",
      "=================================================================\n",
      "main_input (InputLayer)      [(None, 1)]               0         \n",
      "_________________________________________________________________\n",
      "dense_98 (Dense)             (None, 4)                 8         \n",
      "_________________________________________________________________\n",
      "dense_99 (Dense)             (None, 1)                 5         \n",
      "=================================================================\n",
      "Total params: 13\n",
      "Trainable params: 13\n",
      "Non-trainable params: 0\n",
      "_________________________________________________________________\n"
     ]
    },
    {
     "data": {
      "image/png": "[encoded data removed]",
      "text/plain": [
       "<Figure size 432x288 with 1 Axes>"
      ]
     },
     "metadata": {
      "needs_background": "light"
     },
     "output_type": "display_data"
    },
    {
     "name": "stdout",
     "output_type": "stream",
     "text": [
      "LOSS IS  0.00014698447193950415\n",
      "\n",
      " ########## STATISTICS for Training Data ########## \n",
      "\n",
      "MSE             0.0001469845\n",
      "\n",
      " ##################################################\n"
     ]
    },
    {
     "data": {
      "image/png": "[encoded data removed]",
      "text/plain": [
       "<Figure size 432x288 with 1 Axes>"
      ]
     },
     "metadata": {
      "needs_background": "light"
     },
     "output_type": "display_data"
    },
    {
     "name": "stdout",
     "output_type": "stream",
     "text": [
      "Wall time: 6.63 s\n"
     ]
    }
   ],
   "source": [
    "%%time\n",
    "# seed = 0 means random, seed > 0 means fixed\n",
    "seed = 0\n",
    "np.random.seed(seed) if seed else None\n",
    "\n",
    "# Generate training data\n",
    "x_trn, d_trn = regr1(50, 2, 0, 0.0)\n",
    "\n",
    "# Standardization of inputs\n",
    "mu, std = standard(x_trn)\n",
    "x_trn = (x_trn - mu)/std\n",
    "\n",
    "# Define the network, cost function and minimization method\n",
    "INPUT1 = {'inp_dim': 1,         \n",
    "         'n_nod': [4],                   # number of nodes in hidden layer\n",
    "         'act_fun': 'tanh',              # activation functions for the hidden layer\n",
    "         'out_act_fun': 'linear',        # output activation function\n",
    "         'opt_method': 'SGD',            # minimization method\n",
    "         'cost_fun': 'mse',              # error function\n",
    "         'lr_rate': 0.1                 # learningrate\n",
    "        }        \n",
    "\n",
    "# Get the model\n",
    "model_ex1 = mlp(**INPUT1)\n",
    "\n",
    "# Print a summary of the model\n",
    "model_ex1.summary()\n",
    "\n",
    "# Train the model\n",
    "estimator_ex1 = model_ex1.fit(x_trn, d_trn,\n",
    "                              epochs = 4000,      \n",
    "                              batch_size=10,\n",
    "                              verbose = 0)\n",
    "\n",
    "\n",
    "# Training history\n",
    "plt.figure()\n",
    "plt.ylabel('Loss / MSE')\n",
    "plt.xlabel('Epoch')\n",
    "for k in estimator_ex1.history.keys():\n",
    "    plt.plot(estimator_ex1.history[k], label = k) \n",
    "plt.legend(loc='best')\n",
    "plt.show()\n",
    "\n",
    "print('LOSS IS ', estimator_ex1.history[\"loss\"][-1])\n",
    "\n",
    "# Call the stat_reg to get MSE\n",
    "pred_trn = model_ex1.predict(x_trn).reshape(d_trn.shape)\n",
    "stats_reg(d_trn, pred_trn, 'Training', estimator_ex1)\n",
    "\n",
    "# Plot the result\n",
    "d_pred = model_ex1.predict(x_trn)\n",
    "plt.figure()\n",
    "plt.ylabel('Prediction / Target')\n",
    "plt.xlabel('Input')\n",
    "plt.scatter(x_trn, d_trn, label='Target')\n",
    "plt.scatter(x_trn, d_pred, label='Prediction')\n",
    "plt.title('Prediction vs Target')\n",
    "plt.legend(loc='best')\n",
    "plt.show()\n",
    "\n"
   ]
  },
  {
   "cell_type": "markdown",
   "metadata": {},
   "source": [
    "#### CellName: Ex2 (#8)\n",
    "### CellType: Exercise\n",
    "### Cell instruction: Instruction for question 5-6\n",
    "The cell below should be used for questions 5-6.\n",
    "\n",
    "We have now seen that both learning rate and batch size influence the training efficiency. But there are other aspects as well. The amount of weights in the network can also influence how long time we need to train, and of course if the problem itself is complex or not. The following two questions will try to highlight this.\n",
    "\n",
    "#### Question 5\n",
    "The example below will load a slightly more complex *regr1* problem (an additional quarter of a period). We will use 10 hidden nodes for this problem. Use your optimal set of learning rate and batch size as found in Q4 and train the network below. **Compare the number of epochs needed to reach a good solution with that of Q4**.\n",
    "\n",
    "#### Question 6\n",
    "This question is a bit more challenging. Use the following line to load the *regr1* data set:\n",
    "\n",
    "`x_trn, d_trn = regr1(75, 5, 1, 0.0)`\n",
    "\n",
    "This will create an even more challenging regression task that may need an even larger network. Your task is to find a set of hyper parameters (learning rate, batch size, epochs, 'size of the network') that result in a good solution. You can use more than one hidden layer for this task (if you want). **Present your set of good hyperparameters**. \n",
    "\n",
    "**Note:** If you cannot solve this task in *reasonable* time, present your best attempt!\n"
   ]
  },
  {
   "cell_type": "code",
   "execution_count": 98,
   "metadata": {},
   "outputs": [
    {
     "name": "stdout",
     "output_type": "stream",
     "text": [
      "Model: \"functional_183\"\n",
      "_________________________________________________________________\n",
      "Layer (type)                 Output Shape              Param #   \n",
      "=================================================================\n",
      "main_input (InputLayer)      [(None, 1)]               0         \n",
      "_________________________________________________________________\n",
      "dense_262 (Dense)            (None, 10)                20        \n",
      "_________________________________________________________________\n",
      "dense_263 (Dense)            (None, 15)                165       \n",
      "_________________________________________________________________\n",
      "dense_264 (Dense)            (None, 15)                240       \n",
      "_________________________________________________________________\n",
      "dense_265 (Dense)            (None, 10)                160       \n",
      "_________________________________________________________________\n",
      "dense_266 (Dense)            (None, 5)                 55        \n",
      "_________________________________________________________________\n",
      "dense_267 (Dense)            (None, 1)                 6         \n",
      "=================================================================\n",
      "Total params: 646\n",
      "Trainable params: 646\n",
      "Non-trainable params: 0\n",
      "_________________________________________________________________\n"
     ]
    },
    {
     "data": {
      "image/png": "[encoded data removed]",
      "text/plain": [
       "<Figure size 432x288 with 1 Axes>"
      ]
     },
     "metadata": {
      "needs_background": "light"
     },
     "output_type": "display_data"
    },
    {
     "name": "stdout",
     "output_type": "stream",
     "text": [
      "\n",
      " ########## STATISTICS for Training Data ########## \n",
      "\n",
      "MSE             0.0307356510\n",
      "\n",
      " ##################################################\n"
     ]
    },
    {
     "data": {
      "image/png": "[encoded data removed]",
      "text/plain": [
       "<Figure size 432x288 with 1 Axes>"
      ]
     },
     "metadata": {
      "needs_background": "light"
     },
     "output_type": "display_data"
    },
    {
     "name": "stdout",
     "output_type": "stream",
     "text": [
      "Wall time: 25.5 s\n"
     ]
    }
   ],
   "source": [
    "%%time\n",
    "# seed = 0 means random, seed > 0 means fixed\n",
    "seed = 0\n",
    "np.random.seed(seed) if seed else None\n",
    "\n",
    "# Generate training data\n",
    "# x_trn, d_trn = regr1(50, 2.5, 0, 0.0)\n",
    "x_trn, d_trn = regr1(75, 5, 1, 0.0)\n",
    "\n",
    "# Standardization of inputs\n",
    "mu, std = standard(x_trn)\n",
    "x_trn = (x_trn - mu)/std\n",
    "\n",
    "# Define the network, cost function and minimization method\n",
    "INPUT2 = {'inp_dim': 1,         \n",
    "         'n_nod': [10, 15, 15, 10, 5],                   # number of nodes in hidden layer\n",
    "         'act_fun': 'tanh',              # activation functions for the hidden layer\n",
    "         'out_act_fun': 'linear',        # output activation function\n",
    "         'opt_method': 'SGD',            # minimization method\n",
    "         'cost_fun': 'mse',              # error function\n",
    "         'lr_rate': 0.01                 # learningrate\n",
    "        }        \n",
    "\n",
    "# Get the model\n",
    "model_ex2 = mlp(**INPUT2)\n",
    "\n",
    "# Print a summary of the model\n",
    "model_ex2.summary()\n",
    "\n",
    "# Train the model\n",
    "estimator_ex2 = model_ex2.fit(x_trn, d_trn,\n",
    "                              epochs = 10000,      \n",
    "                              batch_size=10,\n",
    "                              verbose = 0)\n",
    "\n",
    "\n",
    "# Training history\n",
    "plt.figure()\n",
    "plt.ylabel('Loss / MSE')\n",
    "plt.xlabel('Epoch')\n",
    "for k in estimator_ex2.history.keys():\n",
    "    plt.plot(estimator_ex2.history[k], label = k) \n",
    "plt.legend(loc='best')\n",
    "plt.show()\n",
    "\n",
    "# Call the stat_reg to get MSE and correlation coefficiant for the scatter plot\n",
    "pred_trn = model_ex2.predict(x_trn).reshape(d_trn.shape)\n",
    "stats_reg(d_trn, pred_trn, 'Training', estimator_ex2)\n",
    "\n",
    "# Plot the result\n",
    "d_pred = model_ex2.predict(x_trn)\n",
    "plt.figure()\n",
    "plt.ylabel('Prediction / Target')\n",
    "plt.xlabel('Input')\n",
    "plt.scatter(x_trn, d_trn, label='Target')\n",
    "plt.scatter(x_trn, d_pred, label='Prediction')\n",
    "plt.title('Prediction vs Target')\n",
    "plt.legend(loc='best')\n",
    "plt.show()\n"
   ]
  },
  {
   "cell_type": "markdown",
   "metadata": {},
   "source": [
    "### CellName: Ex3 (#9)\n",
    "### CellType: Exercise\n",
    "### Cell instruction: Instruction for question 7\n",
    "The cell below should be used for questions 7.\n",
    "\n",
    "We will now look at a classification problem, namely the classification problem defined by the *syn1* dataset.\n",
    "The cell below defines a single hidden node MLP. With this network you can only implement a linear decision boundary. Run the cell below to look at the resulting boundary that the MLP learns. The training accuracy is around 87-93%, because the data is generated randomly each time you run the code. \n",
    "\n",
    "#### Question 7\n",
    "Your task is now to reach a larger accuracy by fitting a model with more hidden nodes (or more hidden layers). \n",
    "Your aim is to reach a training accuracy > 95%. To do that you need to tune the learning rate, batch size, epochs and the size of your MLP. **Present your set of hyper parameters that reach > 95% accuracy**\n",
    "\n",
    "**Note**: To always generate exactly the same dataset each time you run the code you can set the *seed* to a value > 0. \n",
    "\n",
    "#### Question 8\n",
    "We have so far only used stochastic gradient descent (SGD), but we know that there exists modifications of SGD that are more efficient, e.g. Adam. **Try the Adam optimizer for Q7, and compare (qualitatively) the efficiency in terms of number of epochs needed.\n",
    "\n",
    "**Info**: For Adam, it is enough for us to use the default values *beta1* = 0.9 and *beta2* = 0.999 \n",
    "\n",
    "#### Bonus tasks\n",
    "The bonus tasks are provided if you have extra time and want to continue to explore methods that can further enhance the minimization of the loss function. **These tasks are not required for the course and do not influence any grading**. \n",
    "\n",
    "The tasks listed below also mean that you have to change the code in code cell *MLP* (#2). There will be links to appropriate documentation below.\n",
    "\n",
    "* Go back to Q7 and add use a momentum add-on to SGD. **Does momentum help?** (See documentation [here](https://keras.io/api/optimizers/sgd/))\n",
    "* It is common to also introduce a mechanism that can lower the learning rate as we train. If we are using stochastic gradient descent the mini-batch gradients will never be zero, meaning that we will always make some small weight updates. Keres have methods that can lower the learning rate as we train (see [here](https://keras.io/api/optimizers/learning_rate_schedules/exponential_decay/)). Again go back to Q7 and now use an exponential decaying learning rate. **Does it help?**  \n",
    "\n"
   ]
  },
  {
   "cell_type": "code",
   "execution_count": 15,
   "metadata": {
    "scrolled": false
   },
   "outputs": [
    {
     "name": "stdout",
     "output_type": "stream",
     "text": [
      "Model: \"functional_19\"\n",
      "_________________________________________________________________\n",
      "Layer (type)                 Output Shape              Param #   \n",
      "=================================================================\n",
      "main_input (InputLayer)      [(None, 2)]               0         \n",
      "_________________________________________________________________\n",
      "dense_45 (Dense)             (None, 10)                30        \n",
      "_________________________________________________________________\n",
      "dense_46 (Dense)             (None, 10)                110       \n",
      "_________________________________________________________________\n",
      "dense_47 (Dense)             (None, 20)                220       \n",
      "_________________________________________________________________\n",
      "dense_48 (Dense)             (None, 10)                210       \n",
      "_________________________________________________________________\n",
      "dense_49 (Dense)             (None, 1)                 11        \n",
      "=================================================================\n",
      "Total params: 581\n",
      "Trainable params: 581\n",
      "Non-trainable params: 0\n",
      "_________________________________________________________________\n",
      "WARNING:tensorflow:10 out of the last 10 calls to <function Model.make_test_function.<locals>.test_function at 0x000001E4BD8D85E0> triggered tf.function retracing. Tracing is expensive and the excessive number of tracings could be due to (1) creating @tf.function repeatedly in a loop, (2) passing tensors with different shapes, (3) passing Python objects instead of tensors. For (1), please define your @tf.function outside of the loop. For (2), @tf.function has experimental_relax_shapes=True option that relaxes argument shapes that can avoid unnecessary retracing. For (3), please refer to https://www.tensorflow.org/tutorials/customization/performance#python_or_tensor_args and https://www.tensorflow.org/api_docs/python/tf/function for  more details.\n",
      "\n",
      " ########## STATISTICS for Training Data ########## \n",
      "\n",
      "Accuracy        0.9000\n",
      "CEE             0.3264\n",
      "\n",
      " ##################################################\n"
     ]
    },
    {
     "data": {
      "image/png": "[encoded data removed]",
      "text/plain": [
       "<Figure size 432x288 with 1 Axes>"
      ]
     },
     "metadata": {
      "needs_background": "light"
     },
     "output_type": "display_data"
    },
    {
     "data": {
      "image/png": "[encoded data removed]",
      "text/plain": [
       "<Figure size 432x288 with 1 Axes>"
      ]
     },
     "metadata": {
      "needs_background": "light"
     },
     "output_type": "display_data"
    },
    {
     "name": "stdout",
     "output_type": "stream",
     "text": [
      "Wall time: 10.8 s\n"
     ]
    }
   ],
   "source": [
    "%%time\n",
    "\n",
    "# seed = 0 means random, seed > 0 means fixed\n",
    "seed = 10\n",
    "np.random.seed(seed) if seed else None\n",
    "    \n",
    "# Generate training data\n",
    "x_trn, d_trn = syn2(100)\n",
    "\n",
    "# General standardization of input data \n",
    "mu, std = standard(x_trn)\n",
    "x_trn = (x_trn - mu)/std\n",
    "\n",
    "# Define the network, cost function and minimization method\n",
    "INPUT3 = {'inp_dim': x_trn.shape[1],         \n",
    "         'n_nod': [10, 10, 20, 10],                      # number of nodes in hidden layer\n",
    "         'act_fun': 'tanh',                 # activation functions for the hidden layer\n",
    "         'out_act_fun': 'sigmoid',          # output activation function\n",
    "         'opt_method': 'Adam',               # minimization method\n",
    "         'cost_fun': 'binary_crossentropy', # error function\n",
    "         'lr_rate': 0.07,                    # learning rate\n",
    "         'metric': 'accuracy'               # metric for evaluation\n",
    "        } \n",
    "\n",
    "# Get the model\n",
    "model_ex3 = mlp(**INPUT3)\n",
    "\n",
    "# Print a summary of the model\n",
    "model_ex3.summary()\n",
    "\n",
    "# Train the model\n",
    "estimator_ex3= model_ex3.fit(x_trn, d_trn,\n",
    "                      epochs = 1000,                \n",
    "                      batch_size=8,                   \n",
    "                      verbose = 0)\n",
    "\n",
    "# Call the stats function to print out statistics for the training\n",
    "stats_class(x_trn, d_trn, 'Training', model_ex3)\n",
    "\n",
    "# Training history\n",
    "plt.figure()\n",
    "plt.ylabel('Loss / Accuracy')\n",
    "plt.xlabel('Epoch')\n",
    "for k in estimator_ex3.history.keys():\n",
    "    plt.plot(estimator_ex3.history[k], label = k) \n",
    "plt.legend(loc='best')\n",
    "plt.show()\n",
    "\n",
    "# Show the decision boundary\n",
    "decision_b(x_trn, d_trn, model_ex3)\n"
   ]
  },
  {
   "cell_type": "markdown",
   "metadata": {},
   "source": [
    "# The report!\n",
    "\n",
    "\n",
    "### Name\n",
    "Filip Kalkan (fi1231ka-s)\n",
    "\n",
    "### Introduction\n",
    "This lab mainly includes tweaking hyperparameters of MLPs in order to see their effect on the learning process, but also some tasks allow for optimization of models in terms of traning. Besides this, this lab gives a good overview of how MLPs are created and used in practice.\n",
    "\n",
    "### Answers to questions\n",
    "\n",
    "## Ex1\n",
    "#### Q1:\n",
    "**(a) Do you see the same loss vs epoch behavior each time your run?** If no **why?**. \n",
    "No, the reason for this is that stochastic elements are used in the traning process. An example is that the weights are initialized randomly.\n",
    "\n",
    "**(b) Do you observe that training fails, i.e. do not reach low loss, during these five runs?** \n",
    "Yes, sometimes the error isn't reduced below 0.4. However, sometimes it manages to train quite well. This is again mainly due to the stochastic nature of the training process.\n",
    "\n",
    "#### Q2:\n",
    "Varying the learning rate:\n",
    "- 0.01: works bad!\n",
    "- 0.05: works sometimes\n",
    "- 0.1:  Work well, but overshoots sometimes\n",
    "- 0.2:  Work very well, but overshoots more frequently, but comes to good fit with enough epochs\n",
    "- 0.75:  Terrible. Scores very well until last epoch where loss goes very high\n",
    "\n",
    "\n",
    "#### Q3:\n",
    "\n",
    "Training three times on each batch size gave the following results:\n",
    "Batch size = 1: The model didn't manage to reach a low error. The reason might be that a very small batch size makes the gradient in each iteration quite random.\n",
    "\n",
    "Batch size = 5: The error was minimized after around 1000 epochs. \n",
    "\n",
    "Batch size = 10: The error was minimized after around 500 epochs.\n",
    "\n",
    "Batch size = 25: The error was minimized after 1500 - 2000 epochs.\n",
    "\n",
    "Batch size = 40: There was a very high variance in the number of epochs needed to reach a minimum, and some times SGD overshot the minimum when approaching the minimum.\n",
    "\n",
    "\n",
    "#### Q4:\n",
    "Using learning rate: 0.1 and batch size 10 worked great often reaching the minimum loss before 1000 epochs.\n",
    "\n",
    "## Ex2\n",
    "#### Q5:\n",
    "Using the learning rate and batch size from the previous question, the minimum was often overshot. It took around 4000 epochs to get to a reasonable error of around 0.01.\n",
    "\n",
    "#### Q6:\n",
    "The best combination of hyperparameters that I could find managed to give a minumum error of around 0.2. The hyperparameters were:\n",
    "- n_nod = [10, 15, 15, 10, 5]\n",
    "- learningRate = 0.1\n",
    "- epochs = 10000\n",
    "- batchSize = 10\n",
    "\n",
    "## Ex3\n",
    "#### Q7:\n",
    "An accuracy of (0.97, 0.96, 0.97) was achieved using the following hyperparameters:\n",
    "- n_nod = [10, 10, 20, 10]\n",
    "- learningRate = 0.07\n",
    "- epochs = 1000\n",
    "- batchSize = 8\n",
    "\n",
    "#### Q8:\n",
    "Using Adam, significantly less epochs are needed in order to reach the minimum. The minimum loss was achieved already after (50, 50, 100) epochs However, on the specific data set used in the previous assignment this leaning method only reached around 0.90 accuracy for all attempts.\n",
    "\n",
    "### Summary\n",
    "During this lab I felt that the theoretical knowledge conveyed in the lectures was made a lot more concrete. I got to experiment with MLPs by tweaking the hyperparameters, which gave a quite good understanding of their impact for the learning process.\n",
    "  "
   ]
  },
  {
   "cell_type": "markdown",
   "metadata": {},
   "source": []
  }
 ],
 "metadata": {
  "interpreter": {
   "hash": "6a0b82462ee569e8f9cb1079829714d87cdb26c5d258ceac7e33e44278c9776b"
  },
  "kernelspec": {
   "display_name": "Python 3.8.12 64-bit ('tf': conda)",
   "name": "python3"
  },
  "language_info": {
   "codemirror_mode": {
    "name": "ipython",
    "version": 3
   },
   "file_extension": ".py",
   "mimetype": "text/x-python",
   "name": "python",
   "nbconvert_exporter": "python",
   "pygments_lexer": "ipython3",
   "version": "3.8.12"
  },
  "toc": {
   "base_numbering": 1,
   "nav_menu": {
    "height": "530px",
    "width": "356.167px"
   },
   "number_sections": true,
   "sideBar": true,
   "skip_h1_title": false,
   "title_cell": "Table of Contents",
   "title_sidebar": "Contents",
   "toc_cell": false,
   "toc_position": {},
   "toc_section_display": true,
   "toc_window_display": false
  }
 },
 "nbformat": 4,
 "nbformat_minor": 2
}
